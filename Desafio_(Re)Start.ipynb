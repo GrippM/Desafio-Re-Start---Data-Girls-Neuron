{
  "nbformat": 4,
  "nbformat_minor": 0,
  "metadata": {
    "colab": {
      "name": "Desafio (Re)Start.ipynb",
      "provenance": [],
      "collapsed_sections": [],
      "authorship_tag": "ABX9TyMs2Su3EaNZb9StcaOacJEN",
      "include_colab_link": true
    },
    "kernelspec": {
      "name": "python3",
      "display_name": "Python 3"
    },
    "language_info": {
      "name": "python"
    }
  },
  "cells": [
    {
      "cell_type": "markdown",
      "metadata": {
        "id": "view-in-github",
        "colab_type": "text"
      },
      "source": [
        "<a href=\"https://colab.research.google.com/github/GrippM/Desafio-Re-Start---Data-Girls-Neuron/blob/main/Desafio_(Re)Start.ipynb\" target=\"_parent\"><img src=\"https://colab.research.google.com/assets/colab-badge.svg\" alt=\"Open In Colab\"/></a>"
      ]
    },
    {
      "cell_type": "markdown",
      "metadata": {
        "id": "4zhbz4AyX7K7"
      },
      "source": [
        "# Desafio (Re)Start "
      ]
    },
    {
      "cell_type": "markdown",
      "metadata": {
        "id": "jigsaXBgX-V6"
      },
      "source": [
        "Base de dados retirada do Kaggle: \n",
        "# Mushroom Classification\n",
        "\n",
        "Safe to eat or deadly poison?"
      ]
    },
    {
      "cell_type": "markdown",
      "metadata": {
        "id": "FrV_U-HxyLzU"
      },
      "source": [
        "# Arquivo disponível no site Kaggle\n",
        "\n",
        "https://www.kaggle.com/uciml/mushroom-classification"
      ]
    },
    {
      "cell_type": "markdown",
      "metadata": {
        "id": "v2DgnrHTrebu"
      },
      "source": [
        "# **Attribute Information:** (classes: edible=e, poisonous=p)\n",
        "\n",
        "cap-shape: bell=b,conical=c,convex=x,flat=f, knobbed=k,sunken=s\n",
        "\n",
        "cap-surface: fibrous=f,grooves=g,scaly=y,smooth=s\n",
        "\n",
        "cap-color: brown=n,buff=b,cinnamon=c,gray=g,green=r,pink=p,purple=u,red=e,white=w,yellow=y\n",
        "\n",
        "bruises: bruises=t,no=f\n",
        "\n",
        "odor: almond=a,anise=l,creosote=c,fishy=y,foul=f,musty=m,none=n,pungent=p,spicy=s\n",
        "\n",
        "gill-attachment: attached=a,descending=d,free=f,notched=n\n",
        "\n",
        "gill-spacing: close=c,crowded=w,distant=d\n",
        "\n",
        "gill-size: broad=b,narrow=n\n",
        "\n",
        "gill-color: black=k,brown=n,buff=b,chocolate=h,gray=g, green=r,orange=o,pink=p,purple=u,red=e,white=w,yellow=y\n",
        "\n",
        "stalk-shape: enlarging=e,tapering=t\n",
        "\n",
        "stalk-root: bulbous=b,club=c,cup=u,equal=e,rhizomorphs=z,rooted=r,missing=?\n",
        "\n",
        "stalk-surface-above-ring: fibrous=f,scaly=y,silky=k,smooth=s\n",
        "\n",
        "stalk-surface-below-ring: fibrous=f,scaly=y,silky=k,smooth=s\n",
        "\n",
        "stalk-color-above-ring: brown=n,buff=b,cinnamon=c,gray=g,orange=o,pink=p,red=e,white=w,yellow=y\n",
        "\n",
        "stalk-color-below-ring: brown=n,buff=b,cinnamon=c,gray=g,orange=o,pink=p,red=e,white=w,yellow=y\n",
        "\n",
        "veil-type: partial=p,universal=u\n",
        "\n",
        "veil-color: brown=n,orange=o,white=w,yellow=y\n",
        "\n",
        "ring-number: none=n,one=o,two=t\n",
        "\n",
        "ring-type: cobwebby=c,evanescent=e,flaring=f,large=l,none=n,pendant=p,sheathing=s,zone=z\n",
        "\n",
        "spore-print-color: black=k,brown=n,buff=b,chocolate=h,green=r,orange=o,purple=u,white=w,yellow=y\n",
        "\n",
        "population: abundant=a,clustered=c,numerous=n,scattered=s,several=v,solitary=y\n",
        "\n",
        "habitat: grasses=g,leaves=l,meadows=m,paths=p,urban=u,waste=w,woods=d\n",
        "\n",
        "![fungi_images.png](data:image/png;base64,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)"
      ]
    },
    {
      "cell_type": "markdown",
      "metadata": {
        "id": "iJExrF_H8qPz"
      },
      "source": [
        "O principal desafio desse conjunto de dasdos é trabalhar com dados qualitativos nominais, os quais estão distantes da minha experiência (já que é desafio, eu também me desafiei).\n",
        "Os dados sugerem fortemente um sistema de classificação que leva em conta as características morfológicas do cogumelo para classificá-lo em comestível e venenoso. \n",
        "A partir dos dados, dois modelos podem ser analisados: Classificação e Agrupamento. Neste trabalho será utilizado Agrupamento. Para trabalhar com variáveis categóricas utilizarei o 'KModes clustering' que usa a dissimilaridade para o cálculo (e não distancias, como nos dados quantitativos).\n"
      ]
    },
    {
      "cell_type": "markdown",
      "metadata": {
        "id": "FVU1K-bLxsPs"
      },
      "source": [
        "# Instalação das bibliotecas que serão necessárias para realizar a análise"
      ]
    },
    {
      "cell_type": "code",
      "metadata": {
        "colab": {
          "base_uri": "https://localhost:8080/"
        },
        "id": "g3Et0rVTXUvX",
        "outputId": "3c8a3dd9-9562-4c51-c949-31aef8ea4bd2"
      },
      "source": [
        "!pip install kmodes\n",
        "from kmodes.kmodes import KModes\n",
        "\n",
        "import pandas as pd\n",
        "import matplotlib.pyplot as plt\n",
        "import seaborn as sns\n",
        "import numpy as np\n",
        "\n",
        "import sklearn"
      ],
      "execution_count": null,
      "outputs": [
        {
          "output_type": "stream",
          "name": "stdout",
          "text": [
            "Requirement already satisfied: kmodes in /usr/local/lib/python3.7/dist-packages (0.11.1)\n",
            "Requirement already satisfied: numpy>=1.10.4 in /usr/local/lib/python3.7/dist-packages (from kmodes) (1.19.5)\n",
            "Requirement already satisfied: joblib>=0.11 in /usr/local/lib/python3.7/dist-packages (from kmodes) (1.1.0)\n",
            "Requirement already satisfied: scipy>=0.13.3 in /usr/local/lib/python3.7/dist-packages (from kmodes) (1.4.1)\n",
            "Requirement already satisfied: scikit-learn>=0.22.0 in /usr/local/lib/python3.7/dist-packages (from kmodes) (1.0.1)\n",
            "Requirement already satisfied: threadpoolctl>=2.0.0 in /usr/local/lib/python3.7/dist-packages (from scikit-learn>=0.22.0->kmodes) (3.0.0)\n"
          ]
        }
      ]
    },
    {
      "cell_type": "markdown",
      "metadata": {
        "id": "58-Yg62nxMWp"
      },
      "source": [
        "# Carregar arquivo"
      ]
    },
    {
      "cell_type": "code",
      "metadata": {
        "id": "IWIEgxAEmND3"
      },
      "source": [
        "!pip install -U -q PyDrive ## you will have install for every colab session\n",
        "\n",
        "from pydrive.auth import GoogleAuth\n",
        "from pydrive.drive import GoogleDrive\n",
        "from google.colab import auth\n",
        "from oauth2client.client import GoogleCredentials\n",
        "\n",
        "# 1. Authenticate and create the PyDrive client.\n",
        "auth.authenticate_user()\n",
        "gauth = GoogleAuth()\n",
        "gauth.credentials = GoogleCredentials.get_application_default()\n",
        "drive = GoogleDrive(gauth)"
      ],
      "execution_count": null,
      "outputs": []
    },
    {
      "cell_type": "code",
      "metadata": {
        "colab": {
          "resources": {
            "http://localhost:8080/nbextensions/google.colab/files.js": {
              "data": "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",
              "ok": true,
              "headers": [
                [
                  "content-type",
                  "application/javascript"
                ]
              ],
              "status": 200,
              "status_text": ""
            }
          },
          "base_uri": "https://localhost:8080/",
          "height": 90
        },
        "id": "ESHbbHZMnlBq",
        "outputId": "d090f846-6587-4207-8932-9eef92cda609"
      },
      "source": [
        "from google.colab import files\n",
        "\n",
        "uploaded = files.upload()\n",
        "\n",
        "for fn in uploaded.keys():\n",
        "       print('User uploaded file \"{name}\" with length {length} bytes'.format(name=fn, length=len(uploaded[fn])))"
      ],
      "execution_count": null,
      "outputs": [
        {
          "output_type": "display_data",
          "data": {
            "text/html": [
              "\n",
              "     <input type=\"file\" id=\"files-67072873-9cf4-4116-81c9-9b162ab6d46c\" name=\"files[]\" multiple disabled\n",
              "        style=\"border:none\" />\n",
              "     <output id=\"result-67072873-9cf4-4116-81c9-9b162ab6d46c\">\n",
              "      Upload widget is only available when the cell has been executed in the\n",
              "      current browser session. Please rerun this cell to enable.\n",
              "      </output>\n",
              "      <script src=\"/nbextensions/google.colab/files.js\"></script> "
            ],
            "text/plain": [
              "<IPython.core.display.HTML object>"
            ]
          },
          "metadata": {}
        },
        {
          "output_type": "stream",
          "name": "stdout",
          "text": [
            "Saving mushrooms.csv to mushrooms (2).csv\n",
            "User uploaded file \"mushrooms.csv\" with length 374003 bytes\n"
          ]
        }
      ]
    },
    {
      "cell_type": "code",
      "metadata": {
        "id": "esyGpjPQsNU5"
      },
      "source": [
        "link = 'https://drive.google.com/file/d/1kwMn_4MgFdFFCWS000vhJAW8HZxd-Dj4/view?usp=sharing'\n"
      ],
      "execution_count": null,
      "outputs": []
    },
    {
      "cell_type": "code",
      "metadata": {
        "colab": {
          "base_uri": "https://localhost:8080/"
        },
        "id": "rxV3eC_RvM5n",
        "outputId": "6bbfe530-105c-4f0c-bc58-51118b7a50c4"
      },
      "source": [
        "id = link.split(\"/\")[-2] \n",
        "  \n",
        "downloaded = drive.CreateFile({'id':id})  \n",
        "downloaded.GetContentFile('mushrooms.csv')   \n",
        "  \n",
        "df = pd.read_csv('mushrooms.csv') \n",
        "print(df)"
      ],
      "execution_count": null,
      "outputs": [
        {
          "output_type": "stream",
          "name": "stdout",
          "text": [
            "     class cap-shape cap-surface  ... spore-print-color population habitat\n",
            "0        p         x           s  ...                 k          s       u\n",
            "1        e         x           s  ...                 n          n       g\n",
            "2        e         b           s  ...                 n          n       m\n",
            "3        p         x           y  ...                 k          s       u\n",
            "4        e         x           s  ...                 n          a       g\n",
            "...    ...       ...         ...  ...               ...        ...     ...\n",
            "8119     e         k           s  ...                 b          c       l\n",
            "8120     e         x           s  ...                 b          v       l\n",
            "8121     e         f           s  ...                 b          c       l\n",
            "8122     p         k           y  ...                 w          v       l\n",
            "8123     e         x           s  ...                 o          c       l\n",
            "\n",
            "[8124 rows x 23 columns]\n"
          ]
        }
      ]
    },
    {
      "cell_type": "code",
      "metadata": {
        "colab": {
          "base_uri": "https://localhost:8080/",
          "height": 415
        },
        "id": "FNpXYFLmX_Qj",
        "outputId": "139e8603-43da-4c76-9380-01bacd91c41a"
      },
      "source": [
        "#df = pd.read_csv('/content/mushrooms.csv')  --> Para carregar arquivo direto do colab, caso prefira baixar.\n",
        "df.head(10)"
      ],
      "execution_count": null,
      "outputs": [
        {
          "output_type": "execute_result",
          "data": {
            "text/html": [
              "<div>\n",
              "<style scoped>\n",
              "    .dataframe tbody tr th:only-of-type {\n",
              "        vertical-align: middle;\n",
              "    }\n",
              "\n",
              "    .dataframe tbody tr th {\n",
              "        vertical-align: top;\n",
              "    }\n",
              "\n",
              "    .dataframe thead th {\n",
              "        text-align: right;\n",
              "    }\n",
              "</style>\n",
              "<table border=\"1\" class=\"dataframe\">\n",
              "  <thead>\n",
              "    <tr style=\"text-align: right;\">\n",
              "      <th></th>\n",
              "      <th>class</th>\n",
              "      <th>cap-shape</th>\n",
              "      <th>cap-surface</th>\n",
              "      <th>cap-color</th>\n",
              "      <th>bruises</th>\n",
              "      <th>odor</th>\n",
              "      <th>gill-attachment</th>\n",
              "      <th>gill-spacing</th>\n",
              "      <th>gill-size</th>\n",
              "      <th>gill-color</th>\n",
              "      <th>stalk-shape</th>\n",
              "      <th>stalk-root</th>\n",
              "      <th>stalk-surface-above-ring</th>\n",
              "      <th>stalk-surface-below-ring</th>\n",
              "      <th>stalk-color-above-ring</th>\n",
              "      <th>stalk-color-below-ring</th>\n",
              "      <th>veil-type</th>\n",
              "      <th>veil-color</th>\n",
              "      <th>ring-number</th>\n",
              "      <th>ring-type</th>\n",
              "      <th>spore-print-color</th>\n",
              "      <th>population</th>\n",
              "      <th>habitat</th>\n",
              "    </tr>\n",
              "  </thead>\n",
              "  <tbody>\n",
              "    <tr>\n",
              "      <th>0</th>\n",
              "      <td>p</td>\n",
              "      <td>x</td>\n",
              "      <td>s</td>\n",
              "      <td>n</td>\n",
              "      <td>t</td>\n",
              "      <td>p</td>\n",
              "      <td>f</td>\n",
              "      <td>c</td>\n",
              "      <td>n</td>\n",
              "      <td>k</td>\n",
              "      <td>e</td>\n",
              "      <td>e</td>\n",
              "      <td>s</td>\n",
              "      <td>s</td>\n",
              "      <td>w</td>\n",
              "      <td>w</td>\n",
              "      <td>p</td>\n",
              "      <td>w</td>\n",
              "      <td>o</td>\n",
              "      <td>p</td>\n",
              "      <td>k</td>\n",
              "      <td>s</td>\n",
              "      <td>u</td>\n",
              "    </tr>\n",
              "    <tr>\n",
              "      <th>1</th>\n",
              "      <td>e</td>\n",
              "      <td>x</td>\n",
              "      <td>s</td>\n",
              "      <td>y</td>\n",
              "      <td>t</td>\n",
              "      <td>a</td>\n",
              "      <td>f</td>\n",
              "      <td>c</td>\n",
              "      <td>b</td>\n",
              "      <td>k</td>\n",
              "      <td>e</td>\n",
              "      <td>c</td>\n",
              "      <td>s</td>\n",
              "      <td>s</td>\n",
              "      <td>w</td>\n",
              "      <td>w</td>\n",
              "      <td>p</td>\n",
              "      <td>w</td>\n",
              "      <td>o</td>\n",
              "      <td>p</td>\n",
              "      <td>n</td>\n",
              "      <td>n</td>\n",
              "      <td>g</td>\n",
              "    </tr>\n",
              "    <tr>\n",
              "      <th>2</th>\n",
              "      <td>e</td>\n",
              "      <td>b</td>\n",
              "      <td>s</td>\n",
              "      <td>w</td>\n",
              "      <td>t</td>\n",
              "      <td>l</td>\n",
              "      <td>f</td>\n",
              "      <td>c</td>\n",
              "      <td>b</td>\n",
              "      <td>n</td>\n",
              "      <td>e</td>\n",
              "      <td>c</td>\n",
              "      <td>s</td>\n",
              "      <td>s</td>\n",
              "      <td>w</td>\n",
              "      <td>w</td>\n",
              "      <td>p</td>\n",
              "      <td>w</td>\n",
              "      <td>o</td>\n",
              "      <td>p</td>\n",
              "      <td>n</td>\n",
              "      <td>n</td>\n",
              "      <td>m</td>\n",
              "    </tr>\n",
              "    <tr>\n",
              "      <th>3</th>\n",
              "      <td>p</td>\n",
              "      <td>x</td>\n",
              "      <td>y</td>\n",
              "      <td>w</td>\n",
              "      <td>t</td>\n",
              "      <td>p</td>\n",
              "      <td>f</td>\n",
              "      <td>c</td>\n",
              "      <td>n</td>\n",
              "      <td>n</td>\n",
              "      <td>e</td>\n",
              "      <td>e</td>\n",
              "      <td>s</td>\n",
              "      <td>s</td>\n",
              "      <td>w</td>\n",
              "      <td>w</td>\n",
              "      <td>p</td>\n",
              "      <td>w</td>\n",
              "      <td>o</td>\n",
              "      <td>p</td>\n",
              "      <td>k</td>\n",
              "      <td>s</td>\n",
              "      <td>u</td>\n",
              "    </tr>\n",
              "    <tr>\n",
              "      <th>4</th>\n",
              "      <td>e</td>\n",
              "      <td>x</td>\n",
              "      <td>s</td>\n",
              "      <td>g</td>\n",
              "      <td>f</td>\n",
              "      <td>n</td>\n",
              "      <td>f</td>\n",
              "      <td>w</td>\n",
              "      <td>b</td>\n",
              "      <td>k</td>\n",
              "      <td>t</td>\n",
              "      <td>e</td>\n",
              "      <td>s</td>\n",
              "      <td>s</td>\n",
              "      <td>w</td>\n",
              "      <td>w</td>\n",
              "      <td>p</td>\n",
              "      <td>w</td>\n",
              "      <td>o</td>\n",
              "      <td>e</td>\n",
              "      <td>n</td>\n",
              "      <td>a</td>\n",
              "      <td>g</td>\n",
              "    </tr>\n",
              "    <tr>\n",
              "      <th>5</th>\n",
              "      <td>e</td>\n",
              "      <td>x</td>\n",
              "      <td>y</td>\n",
              "      <td>y</td>\n",
              "      <td>t</td>\n",
              "      <td>a</td>\n",
              "      <td>f</td>\n",
              "      <td>c</td>\n",
              "      <td>b</td>\n",
              "      <td>n</td>\n",
              "      <td>e</td>\n",
              "      <td>c</td>\n",
              "      <td>s</td>\n",
              "      <td>s</td>\n",
              "      <td>w</td>\n",
              "      <td>w</td>\n",
              "      <td>p</td>\n",
              "      <td>w</td>\n",
              "      <td>o</td>\n",
              "      <td>p</td>\n",
              "      <td>k</td>\n",
              "      <td>n</td>\n",
              "      <td>g</td>\n",
              "    </tr>\n",
              "    <tr>\n",
              "      <th>6</th>\n",
              "      <td>e</td>\n",
              "      <td>b</td>\n",
              "      <td>s</td>\n",
              "      <td>w</td>\n",
              "      <td>t</td>\n",
              "      <td>a</td>\n",
              "      <td>f</td>\n",
              "      <td>c</td>\n",
              "      <td>b</td>\n",
              "      <td>g</td>\n",
              "      <td>e</td>\n",
              "      <td>c</td>\n",
              "      <td>s</td>\n",
              "      <td>s</td>\n",
              "      <td>w</td>\n",
              "      <td>w</td>\n",
              "      <td>p</td>\n",
              "      <td>w</td>\n",
              "      <td>o</td>\n",
              "      <td>p</td>\n",
              "      <td>k</td>\n",
              "      <td>n</td>\n",
              "      <td>m</td>\n",
              "    </tr>\n",
              "    <tr>\n",
              "      <th>7</th>\n",
              "      <td>e</td>\n",
              "      <td>b</td>\n",
              "      <td>y</td>\n",
              "      <td>w</td>\n",
              "      <td>t</td>\n",
              "      <td>l</td>\n",
              "      <td>f</td>\n",
              "      <td>c</td>\n",
              "      <td>b</td>\n",
              "      <td>n</td>\n",
              "      <td>e</td>\n",
              "      <td>c</td>\n",
              "      <td>s</td>\n",
              "      <td>s</td>\n",
              "      <td>w</td>\n",
              "      <td>w</td>\n",
              "      <td>p</td>\n",
              "      <td>w</td>\n",
              "      <td>o</td>\n",
              "      <td>p</td>\n",
              "      <td>n</td>\n",
              "      <td>s</td>\n",
              "      <td>m</td>\n",
              "    </tr>\n",
              "    <tr>\n",
              "      <th>8</th>\n",
              "      <td>p</td>\n",
              "      <td>x</td>\n",
              "      <td>y</td>\n",
              "      <td>w</td>\n",
              "      <td>t</td>\n",
              "      <td>p</td>\n",
              "      <td>f</td>\n",
              "      <td>c</td>\n",
              "      <td>n</td>\n",
              "      <td>p</td>\n",
              "      <td>e</td>\n",
              "      <td>e</td>\n",
              "      <td>s</td>\n",
              "      <td>s</td>\n",
              "      <td>w</td>\n",
              "      <td>w</td>\n",
              "      <td>p</td>\n",
              "      <td>w</td>\n",
              "      <td>o</td>\n",
              "      <td>p</td>\n",
              "      <td>k</td>\n",
              "      <td>v</td>\n",
              "      <td>g</td>\n",
              "    </tr>\n",
              "    <tr>\n",
              "      <th>9</th>\n",
              "      <td>e</td>\n",
              "      <td>b</td>\n",
              "      <td>s</td>\n",
              "      <td>y</td>\n",
              "      <td>t</td>\n",
              "      <td>a</td>\n",
              "      <td>f</td>\n",
              "      <td>c</td>\n",
              "      <td>b</td>\n",
              "      <td>g</td>\n",
              "      <td>e</td>\n",
              "      <td>c</td>\n",
              "      <td>s</td>\n",
              "      <td>s</td>\n",
              "      <td>w</td>\n",
              "      <td>w</td>\n",
              "      <td>p</td>\n",
              "      <td>w</td>\n",
              "      <td>o</td>\n",
              "      <td>p</td>\n",
              "      <td>k</td>\n",
              "      <td>s</td>\n",
              "      <td>m</td>\n",
              "    </tr>\n",
              "  </tbody>\n",
              "</table>\n",
              "</div>"
            ],
            "text/plain": [
              "  class cap-shape cap-surface  ... spore-print-color population habitat\n",
              "0     p         x           s  ...                 k          s       u\n",
              "1     e         x           s  ...                 n          n       g\n",
              "2     e         b           s  ...                 n          n       m\n",
              "3     p         x           y  ...                 k          s       u\n",
              "4     e         x           s  ...                 n          a       g\n",
              "5     e         x           y  ...                 k          n       g\n",
              "6     e         b           s  ...                 k          n       m\n",
              "7     e         b           y  ...                 n          s       m\n",
              "8     p         x           y  ...                 k          v       g\n",
              "9     e         b           s  ...                 k          s       m\n",
              "\n",
              "[10 rows x 23 columns]"
            ]
          },
          "metadata": {},
          "execution_count": 54
        }
      ]
    },
    {
      "cell_type": "markdown",
      "metadata": {
        "id": "Vfa_3Fk0yQXT"
      },
      "source": [
        "# Análise exploratória: conhecendo os dados"
      ]
    },
    {
      "cell_type": "code",
      "metadata": {
        "colab": {
          "base_uri": "https://localhost:8080/"
        },
        "id": "vwyLCcR9ZdJO",
        "outputId": "3452f502-9a80-40fa-fe14-15acf249912d"
      },
      "source": [
        "df.shape"
      ],
      "execution_count": null,
      "outputs": [
        {
          "output_type": "execute_result",
          "data": {
            "text/plain": [
              "(8124, 23)"
            ]
          },
          "metadata": {},
          "execution_count": 55
        }
      ]
    },
    {
      "cell_type": "code",
      "metadata": {
        "colab": {
          "base_uri": "https://localhost:8080/"
        },
        "id": "XE-rm88PZdIi",
        "outputId": "8c0780ba-e96f-41e3-a239-7d61bac85370"
      },
      "source": [
        "df.info()"
      ],
      "execution_count": null,
      "outputs": [
        {
          "output_type": "stream",
          "name": "stdout",
          "text": [
            "<class 'pandas.core.frame.DataFrame'>\n",
            "RangeIndex: 8124 entries, 0 to 8123\n",
            "Data columns (total 23 columns):\n",
            " #   Column                    Non-Null Count  Dtype \n",
            "---  ------                    --------------  ----- \n",
            " 0   class                     8124 non-null   object\n",
            " 1   cap-shape                 8124 non-null   object\n",
            " 2   cap-surface               8124 non-null   object\n",
            " 3   cap-color                 8124 non-null   object\n",
            " 4   bruises                   8124 non-null   object\n",
            " 5   odor                      8124 non-null   object\n",
            " 6   gill-attachment           8124 non-null   object\n",
            " 7   gill-spacing              8124 non-null   object\n",
            " 8   gill-size                 8124 non-null   object\n",
            " 9   gill-color                8124 non-null   object\n",
            " 10  stalk-shape               8124 non-null   object\n",
            " 11  stalk-root                8124 non-null   object\n",
            " 12  stalk-surface-above-ring  8124 non-null   object\n",
            " 13  stalk-surface-below-ring  8124 non-null   object\n",
            " 14  stalk-color-above-ring    8124 non-null   object\n",
            " 15  stalk-color-below-ring    8124 non-null   object\n",
            " 16  veil-type                 8124 non-null   object\n",
            " 17  veil-color                8124 non-null   object\n",
            " 18  ring-number               8124 non-null   object\n",
            " 19  ring-type                 8124 non-null   object\n",
            " 20  spore-print-color         8124 non-null   object\n",
            " 21  population                8124 non-null   object\n",
            " 22  habitat                   8124 non-null   object\n",
            "dtypes: object(23)\n",
            "memory usage: 1.4+ MB\n"
          ]
        }
      ]
    },
    {
      "cell_type": "code",
      "metadata": {
        "colab": {
          "base_uri": "https://localhost:8080/",
          "height": 771
        },
        "id": "K6C6Exy4pd2l",
        "outputId": "17d3ba94-d17b-45ed-d227-04afba53cdd3"
      },
      "source": [
        "df.describe().T"
      ],
      "execution_count": null,
      "outputs": [
        {
          "output_type": "execute_result",
          "data": {
            "text/html": [
              "<div>\n",
              "<style scoped>\n",
              "    .dataframe tbody tr th:only-of-type {\n",
              "        vertical-align: middle;\n",
              "    }\n",
              "\n",
              "    .dataframe tbody tr th {\n",
              "        vertical-align: top;\n",
              "    }\n",
              "\n",
              "    .dataframe thead th {\n",
              "        text-align: right;\n",
              "    }\n",
              "</style>\n",
              "<table border=\"1\" class=\"dataframe\">\n",
              "  <thead>\n",
              "    <tr style=\"text-align: right;\">\n",
              "      <th></th>\n",
              "      <th>count</th>\n",
              "      <th>unique</th>\n",
              "      <th>top</th>\n",
              "      <th>freq</th>\n",
              "    </tr>\n",
              "  </thead>\n",
              "  <tbody>\n",
              "    <tr>\n",
              "      <th>class</th>\n",
              "      <td>8124</td>\n",
              "      <td>2</td>\n",
              "      <td>e</td>\n",
              "      <td>4208</td>\n",
              "    </tr>\n",
              "    <tr>\n",
              "      <th>cap-shape</th>\n",
              "      <td>8124</td>\n",
              "      <td>6</td>\n",
              "      <td>x</td>\n",
              "      <td>3656</td>\n",
              "    </tr>\n",
              "    <tr>\n",
              "      <th>cap-surface</th>\n",
              "      <td>8124</td>\n",
              "      <td>4</td>\n",
              "      <td>y</td>\n",
              "      <td>3244</td>\n",
              "    </tr>\n",
              "    <tr>\n",
              "      <th>cap-color</th>\n",
              "      <td>8124</td>\n",
              "      <td>10</td>\n",
              "      <td>n</td>\n",
              "      <td>2284</td>\n",
              "    </tr>\n",
              "    <tr>\n",
              "      <th>bruises</th>\n",
              "      <td>8124</td>\n",
              "      <td>2</td>\n",
              "      <td>f</td>\n",
              "      <td>4748</td>\n",
              "    </tr>\n",
              "    <tr>\n",
              "      <th>odor</th>\n",
              "      <td>8124</td>\n",
              "      <td>9</td>\n",
              "      <td>n</td>\n",
              "      <td>3528</td>\n",
              "    </tr>\n",
              "    <tr>\n",
              "      <th>gill-attachment</th>\n",
              "      <td>8124</td>\n",
              "      <td>2</td>\n",
              "      <td>f</td>\n",
              "      <td>7914</td>\n",
              "    </tr>\n",
              "    <tr>\n",
              "      <th>gill-spacing</th>\n",
              "      <td>8124</td>\n",
              "      <td>2</td>\n",
              "      <td>c</td>\n",
              "      <td>6812</td>\n",
              "    </tr>\n",
              "    <tr>\n",
              "      <th>gill-size</th>\n",
              "      <td>8124</td>\n",
              "      <td>2</td>\n",
              "      <td>b</td>\n",
              "      <td>5612</td>\n",
              "    </tr>\n",
              "    <tr>\n",
              "      <th>gill-color</th>\n",
              "      <td>8124</td>\n",
              "      <td>12</td>\n",
              "      <td>b</td>\n",
              "      <td>1728</td>\n",
              "    </tr>\n",
              "    <tr>\n",
              "      <th>stalk-shape</th>\n",
              "      <td>8124</td>\n",
              "      <td>2</td>\n",
              "      <td>t</td>\n",
              "      <td>4608</td>\n",
              "    </tr>\n",
              "    <tr>\n",
              "      <th>stalk-root</th>\n",
              "      <td>8124</td>\n",
              "      <td>5</td>\n",
              "      <td>b</td>\n",
              "      <td>3776</td>\n",
              "    </tr>\n",
              "    <tr>\n",
              "      <th>stalk-surface-above-ring</th>\n",
              "      <td>8124</td>\n",
              "      <td>4</td>\n",
              "      <td>s</td>\n",
              "      <td>5176</td>\n",
              "    </tr>\n",
              "    <tr>\n",
              "      <th>stalk-surface-below-ring</th>\n",
              "      <td>8124</td>\n",
              "      <td>4</td>\n",
              "      <td>s</td>\n",
              "      <td>4936</td>\n",
              "    </tr>\n",
              "    <tr>\n",
              "      <th>stalk-color-above-ring</th>\n",
              "      <td>8124</td>\n",
              "      <td>9</td>\n",
              "      <td>w</td>\n",
              "      <td>4464</td>\n",
              "    </tr>\n",
              "    <tr>\n",
              "      <th>stalk-color-below-ring</th>\n",
              "      <td>8124</td>\n",
              "      <td>9</td>\n",
              "      <td>w</td>\n",
              "      <td>4384</td>\n",
              "    </tr>\n",
              "    <tr>\n",
              "      <th>veil-type</th>\n",
              "      <td>8124</td>\n",
              "      <td>1</td>\n",
              "      <td>p</td>\n",
              "      <td>8124</td>\n",
              "    </tr>\n",
              "    <tr>\n",
              "      <th>veil-color</th>\n",
              "      <td>8124</td>\n",
              "      <td>4</td>\n",
              "      <td>w</td>\n",
              "      <td>7924</td>\n",
              "    </tr>\n",
              "    <tr>\n",
              "      <th>ring-number</th>\n",
              "      <td>8124</td>\n",
              "      <td>3</td>\n",
              "      <td>o</td>\n",
              "      <td>7488</td>\n",
              "    </tr>\n",
              "    <tr>\n",
              "      <th>ring-type</th>\n",
              "      <td>8124</td>\n",
              "      <td>5</td>\n",
              "      <td>p</td>\n",
              "      <td>3968</td>\n",
              "    </tr>\n",
              "    <tr>\n",
              "      <th>spore-print-color</th>\n",
              "      <td>8124</td>\n",
              "      <td>9</td>\n",
              "      <td>w</td>\n",
              "      <td>2388</td>\n",
              "    </tr>\n",
              "    <tr>\n",
              "      <th>population</th>\n",
              "      <td>8124</td>\n",
              "      <td>6</td>\n",
              "      <td>v</td>\n",
              "      <td>4040</td>\n",
              "    </tr>\n",
              "    <tr>\n",
              "      <th>habitat</th>\n",
              "      <td>8124</td>\n",
              "      <td>7</td>\n",
              "      <td>d</td>\n",
              "      <td>3148</td>\n",
              "    </tr>\n",
              "  </tbody>\n",
              "</table>\n",
              "</div>"
            ],
            "text/plain": [
              "                         count unique top  freq\n",
              "class                     8124      2   e  4208\n",
              "cap-shape                 8124      6   x  3656\n",
              "cap-surface               8124      4   y  3244\n",
              "cap-color                 8124     10   n  2284\n",
              "bruises                   8124      2   f  4748\n",
              "odor                      8124      9   n  3528\n",
              "gill-attachment           8124      2   f  7914\n",
              "gill-spacing              8124      2   c  6812\n",
              "gill-size                 8124      2   b  5612\n",
              "gill-color                8124     12   b  1728\n",
              "stalk-shape               8124      2   t  4608\n",
              "stalk-root                8124      5   b  3776\n",
              "stalk-surface-above-ring  8124      4   s  5176\n",
              "stalk-surface-below-ring  8124      4   s  4936\n",
              "stalk-color-above-ring    8124      9   w  4464\n",
              "stalk-color-below-ring    8124      9   w  4384\n",
              "veil-type                 8124      1   p  8124\n",
              "veil-color                8124      4   w  7924\n",
              "ring-number               8124      3   o  7488\n",
              "ring-type                 8124      5   p  3968\n",
              "spore-print-color         8124      9   w  2388\n",
              "population                8124      6   v  4040\n",
              "habitat                   8124      7   d  3148"
            ]
          },
          "metadata": {},
          "execution_count": 57
        }
      ]
    },
    {
      "cell_type": "code",
      "metadata": {
        "colab": {
          "base_uri": "https://localhost:8080/"
        },
        "id": "J0eCqXwC_VbJ",
        "outputId": "0cae7afa-215a-4306-b851-b8b371b1b0b7"
      },
      "source": [
        "df['class'].value_counts()"
      ],
      "execution_count": null,
      "outputs": [
        {
          "output_type": "execute_result",
          "data": {
            "text/plain": [
              "e    4208\n",
              "p    3916\n",
              "Name: class, dtype: int64"
            ]
          },
          "metadata": {},
          "execution_count": 58
        }
      ]
    },
    {
      "cell_type": "code",
      "metadata": {
        "colab": {
          "base_uri": "https://localhost:8080/",
          "height": 351
        },
        "id": "PjRbRcZt_s9q",
        "outputId": "725c5e78-8229-453f-faa9-5be520afa7fb"
      },
      "source": [
        "sns.countplot(df['class'])"
      ],
      "execution_count": null,
      "outputs": [
        {
          "output_type": "stream",
          "name": "stderr",
          "text": [
            "/usr/local/lib/python3.7/dist-packages/seaborn/_decorators.py:43: FutureWarning: Pass the following variable as a keyword arg: x. From version 0.12, the only valid positional argument will be `data`, and passing other arguments without an explicit keyword will result in an error or misinterpretation.\n",
            "  FutureWarning\n"
          ]
        },
        {
          "output_type": "execute_result",
          "data": {
            "text/plain": [
              "<matplotlib.axes._subplots.AxesSubplot at 0x7f95aa460390>"
            ]
          },
          "metadata": {},
          "execution_count": 59
        },
        {
          "output_type": "display_data",
          "data": {
            "image/png": "[encoded data removed]",
            "text/plain": [
              "<Figure size 432x288 with 1 Axes>"
            ]
          },
          "metadata": {
            "needs_background": "light"
          }
        }
      ]
    },
    {
      "cell_type": "markdown",
      "metadata": {
        "id": "FlNAN3N2Bu9J"
      },
      "source": [
        "Observa-se que as quantidades de cogumelos venenosos e comestíveis são balanceadas, o que possibilita a criação de modelos não enviesados. "
      ]
    },
    {
      "cell_type": "markdown",
      "metadata": {
        "id": "msWji59753yl"
      },
      "source": [
        "# Cobertura da superfície\n",
        "\n",
        "cap-shape: bell=b,conical=c,convex=x,flat=f, knobbed=k,sunken=s"
      ]
    },
    {
      "cell_type": "code",
      "metadata": {
        "colab": {
          "base_uri": "https://localhost:8080/"
        },
        "id": "Oz7R8Jiiq3S1",
        "outputId": "204af6c8-f1a0-4d99-bc72-4b7b5f9cf7f8"
      },
      "source": [
        "df.groupby('cap-surface')['class'].value_counts()"
      ],
      "execution_count": null,
      "outputs": [
        {
          "output_type": "execute_result",
          "data": {
            "text/plain": [
              "cap-surface  class\n",
              "f            e        1560\n",
              "             p         760\n",
              "g            p           4\n",
              "s            p        1412\n",
              "             e        1144\n",
              "y            p        1740\n",
              "             e        1504\n",
              "Name: class, dtype: int64"
            ]
          },
          "metadata": {},
          "execution_count": 60
        }
      ]
    },
    {
      "cell_type": "markdown",
      "metadata": {
        "id": "YfPiJ8-lymaq"
      },
      "source": [
        "A partir desse agrupamento pode-se ver que no grupo dos cogumelos que apresentam cobertura da superfície (cap-surface) com ranhuras (grooves=g) todos são venenosos."
      ]
    },
    {
      "cell_type": "markdown",
      "metadata": {
        "id": "hoMYxCI35jU_"
      },
      "source": [
        "# Odor"
      ]
    },
    {
      "cell_type": "code",
      "metadata": {
        "colab": {
          "base_uri": "https://localhost:8080/"
        },
        "id": "5yA3WWUTzqDE",
        "outputId": "fa0e580e-9e85-4494-9b52-128059594003"
      },
      "source": [
        "df.groupby('odor')['class'].value_counts()"
      ],
      "execution_count": null,
      "outputs": [
        {
          "output_type": "execute_result",
          "data": {
            "text/plain": [
              "odor  class\n",
              "a     e         400\n",
              "c     p         192\n",
              "f     p        2160\n",
              "l     e         400\n",
              "m     p          36\n",
              "n     e        3408\n",
              "      p         120\n",
              "p     p         256\n",
              "s     p         576\n",
              "y     p         576\n",
              "Name: class, dtype: int64"
            ]
          },
          "metadata": {},
          "execution_count": 61
        }
      ]
    },
    {
      "cell_type": "code",
      "metadata": {
        "colab": {
          "base_uri": "https://localhost:8080/",
          "height": 296
        },
        "id": "sP6BHDDEM3q5",
        "outputId": "67501b5b-ec5c-4bfc-93e5-3cd899a12ee3"
      },
      "source": [
        "sns.countplot(data=df, x='odor', hue='class')"
      ],
      "execution_count": null,
      "outputs": [
        {
          "output_type": "execute_result",
          "data": {
            "text/plain": [
              "<matplotlib.axes._subplots.AxesSubplot at 0x7f95aa402990>"
            ]
          },
          "metadata": {},
          "execution_count": 62
        },
        {
          "output_type": "display_data",
          "data": {
            "image/png": "[encoded data removed]",
            "text/plain": [
              "<Figure size 432x288 with 1 Axes>"
            ]
          },
          "metadata": {
            "needs_background": "light"
          }
        }
      ]
    },
    {
      "cell_type": "markdown",
      "metadata": {
        "id": "4SuLcpXVzxzL"
      },
      "source": [
        "Observa-se a partir desse agrupamento pelo odor, que todos os cogumelos que tem cheiro de amêndoa (almond=a) são comestíveis; todos que tem cheiro de creosoto (creosoto = c) são venenosos, todos que tem cheiro repugnante (repugnante = f) são venenosos; todos que tem odor de anis (anise=l) são comestíveis; todos os bolorentos (musty=m) são venenosos; os de cheiro ácido (pungent=p) são venenosos; os de cheiro picante (spicy=s) são venenosos; todos os que tem cheiro de peixe (fishy=y) são venenosos e os que não apresentam odor (none=n) podem ser comestíveis ou venenosos\n",
        "\n",
        "\n",
        "\n"
      ]
    },
    {
      "cell_type": "markdown",
      "metadata": {
        "id": "u2jG1Wjq5oxT"
      },
      "source": [
        "# Habitat"
      ]
    },
    {
      "cell_type": "code",
      "metadata": {
        "colab": {
          "base_uri": "https://localhost:8080/"
        },
        "id": "Uzgl0CZh4k7U",
        "outputId": "9894d3cf-4b63-45bf-e549-08a8b0f4e655"
      },
      "source": [
        "df.groupby('habitat')['class'].value_counts()"
      ],
      "execution_count": null,
      "outputs": [
        {
          "output_type": "execute_result",
          "data": {
            "text/plain": [
              "habitat  class\n",
              "d        e        1880\n",
              "         p        1268\n",
              "g        e        1408\n",
              "         p         740\n",
              "l        p         592\n",
              "         e         240\n",
              "m        e         256\n",
              "         p          36\n",
              "p        p        1008\n",
              "         e         136\n",
              "u        p         272\n",
              "         e          96\n",
              "w        e         192\n",
              "Name: class, dtype: int64"
            ]
          },
          "metadata": {},
          "execution_count": 63
        }
      ]
    },
    {
      "cell_type": "markdown",
      "metadata": {
        "id": "zTvudrM249Sb"
      },
      "source": [
        "Já nesse agrupamento por habitat observa-se que apenas os cogumelos que colonizam rejeitos são 100% comestíveis. Nos demais hábitats encontramos cogumelos tanto venonosos quanto comestíveis. "
      ]
    },
    {
      "cell_type": "markdown",
      "metadata": {
        "id": "pln_wRnY_mfr"
      },
      "source": [
        "![mushroom-anatomy.png](data:image/png;base64,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)"
      ]
    },
    {
      "cell_type": "markdown",
      "metadata": {
        "id": "tkJZS7Y_4Svd"
      },
      "source": [
        "# Coloração da textura da superfície (veil-color)\n",
        "\n",
        "veil-color: brown=n,orange=o,white=w,yellow=y"
      ]
    },
    {
      "cell_type": "code",
      "metadata": {
        "colab": {
          "base_uri": "https://localhost:8080/"
        },
        "id": "jBTRAsy64Igs",
        "outputId": "a5dac00d-99a4-47c5-9726-07ab1714164d"
      },
      "source": [
        "df.groupby('veil-color')['class'].value_counts()"
      ],
      "execution_count": null,
      "outputs": [
        {
          "output_type": "execute_result",
          "data": {
            "text/plain": [
              "veil-color  class\n",
              "n           e          96\n",
              "o           e          96\n",
              "w           e        4016\n",
              "            p        3908\n",
              "y           p           8\n",
              "Name: class, dtype: int64"
            ]
          },
          "metadata": {},
          "execution_count": 64
        }
      ]
    },
    {
      "cell_type": "code",
      "metadata": {
        "colab": {
          "base_uri": "https://localhost:8080/",
          "height": 296
        },
        "id": "x5X-DGIO5Yc9",
        "outputId": "e3ca2a7e-5320-453b-edde-2d49f6a03253"
      },
      "source": [
        "sns.countplot(data=df, x='veil-color', hue='class', palette='pastel')\n"
      ],
      "execution_count": null,
      "outputs": [
        {
          "output_type": "execute_result",
          "data": {
            "text/plain": [
              "<matplotlib.axes._subplots.AxesSubplot at 0x7f95a9f108d0>"
            ]
          },
          "metadata": {},
          "execution_count": 65
        },
        {
          "output_type": "display_data",
          "data": {
            "image/png": "[encoded data removed]",
            "text/plain": [
              "<Figure size 432x288 with 1 Axes>"
            ]
          },
          "metadata": {
            "needs_background": "light"
          }
        }
      ]
    },
    {
      "cell_type": "markdown",
      "metadata": {
        "id": "rL6ZUVw_6uEx"
      },
      "source": [
        "Fazendo um agrupamento pelo formato da cobertura: \n",
        "cap-shape: bell=b,conical=c,convex=x,flat=f, knobbed=k,sunken=s"
      ]
    },
    {
      "cell_type": "markdown",
      "metadata": {
        "id": "RTL-WmQUAtCV"
      },
      "source": [
        "# Formato da cobeturtura\n",
        "\n",
        "cap-shape: bell=b,conical=c,convex=x,flat=f, knobbed=k,sunken=s\n",
        "\n"
      ]
    },
    {
      "cell_type": "code",
      "metadata": {
        "colab": {
          "base_uri": "https://localhost:8080/"
        },
        "id": "u7752G2L7Gss",
        "outputId": "c93490bf-5b40-4169-f0b5-ea6cf39bb0ff"
      },
      "source": [
        "df.groupby('cap-shape')['class'].value_counts()"
      ],
      "execution_count": null,
      "outputs": [
        {
          "output_type": "execute_result",
          "data": {
            "text/plain": [
              "cap-shape  class\n",
              "b          e         404\n",
              "           p          48\n",
              "c          p           4\n",
              "f          e        1596\n",
              "           p        1556\n",
              "k          p         600\n",
              "           e         228\n",
              "s          e          32\n",
              "x          e        1948\n",
              "           p        1708\n",
              "Name: class, dtype: int64"
            ]
          },
          "metadata": {},
          "execution_count": 66
        }
      ]
    },
    {
      "cell_type": "code",
      "metadata": {
        "colab": {
          "base_uri": "https://localhost:8080/",
          "height": 296
        },
        "id": "jH1Ny_rbLT1v",
        "outputId": "89fa7615-b67f-4c74-ab64-dc0bdabd05b1"
      },
      "source": [
        "sns.countplot(data=df, x='cap-shape', hue='class', palette='pastel')"
      ],
      "execution_count": null,
      "outputs": [
        {
          "output_type": "execute_result",
          "data": {
            "text/plain": [
              "<matplotlib.axes._subplots.AxesSubplot at 0x7f95a9e92a10>"
            ]
          },
          "metadata": {},
          "execution_count": 67
        },
        {
          "output_type": "display_data",
          "data": {
            "image/png": "[encoded data removed]",
            "text/plain": [
              "<Figure size 432x288 with 1 Axes>"
            ]
          },
          "metadata": {
            "needs_background": "light"
          }
        }
      ]
    },
    {
      "cell_type": "markdown",
      "metadata": {
        "id": "9pHEwT6v6lC0"
      },
      "source": [
        "![cogumelos_formatos.jfif](data:image/jpeg;base64,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)"
      ]
    },
    {
      "cell_type": "markdown",
      "metadata": {
        "id": "zAyUpaDr7W_6"
      },
      "source": [
        "Observa-se que todos os cogumelos cujo formato da cobertura é cônico (conical=c) são venenosos, apesar de serem muito poucos. E todos os cogumelos de cobertura afundada (sunken=s) são comestíveis.\n"
      ]
    },
    {
      "cell_type": "markdown",
      "metadata": {
        "id": "txHpmn-oG5wF"
      },
      "source": [
        "# Cor da cobertura"
      ]
    },
    {
      "cell_type": "code",
      "metadata": {
        "colab": {
          "base_uri": "https://localhost:8080/"
        },
        "id": "6LvtyPEcz0ZG",
        "outputId": "cd97257a-b9eb-461c-f22e-41f6a92bf3e6"
      },
      "source": [
        "df.groupby('cap-color')['class'].value_counts()"
      ],
      "execution_count": null,
      "outputs": [
        {
          "output_type": "execute_result",
          "data": {
            "text/plain": [
              "cap-color  class\n",
              "b          p         120\n",
              "           e          48\n",
              "c          e          32\n",
              "           p          12\n",
              "e          p         876\n",
              "           e         624\n",
              "g          e        1032\n",
              "           p         808\n",
              "n          e        1264\n",
              "           p        1020\n",
              "p          p          88\n",
              "           e          56\n",
              "r          e          16\n",
              "u          e          16\n",
              "w          e         720\n",
              "           p         320\n",
              "y          p         672\n",
              "           e         400\n",
              "Name: class, dtype: int64"
            ]
          },
          "metadata": {},
          "execution_count": 68
        }
      ]
    },
    {
      "cell_type": "code",
      "metadata": {
        "colab": {
          "base_uri": "https://localhost:8080/",
          "height": 296
        },
        "id": "2fQ5PYha0EbW",
        "outputId": "a9e172e4-eba5-4408-8a0e-2be146177677"
      },
      "source": [
        "sns.countplot(data=df, x='cap-color', hue='class', palette='pastel')\n",
        "# cap-color: brown=n,buff=b,cinnamon=c,gray=g,green=r,pink=p,purple=u,red=e,white=w,yellow=y"
      ],
      "execution_count": null,
      "outputs": [
        {
          "output_type": "execute_result",
          "data": {
            "text/plain": [
              "<matplotlib.axes._subplots.AxesSubplot at 0x7f95a9e2ef10>"
            ]
          },
          "metadata": {},
          "execution_count": 69
        },
        {
          "output_type": "display_data",
          "data": {
            "image/png": "[encoded data removed]",
            "text/plain": [
              "<Figure size 432x288 with 1 Axes>"
            ]
          },
          "metadata": {
            "needs_background": "light"
          }
        }
      ]
    },
    {
      "cell_type": "markdown",
      "metadata": {
        "id": "r0EkQpabA92E"
      },
      "source": [
        "# População"
      ]
    },
    {
      "cell_type": "code",
      "metadata": {
        "colab": {
          "base_uri": "https://localhost:8080/"
        },
        "id": "-vzVE3s50tUU",
        "outputId": "141dce3a-b80b-44e9-adba-10ff2d692b87"
      },
      "source": [
        "df.groupby('population')['class'].value_counts()\n",
        "# population: abundant=a,clustered=c,numerous=n,scattered=s,several=v,solitary=y"
      ],
      "execution_count": null,
      "outputs": [
        {
          "output_type": "execute_result",
          "data": {
            "text/plain": [
              "population  class\n",
              "a           e         384\n",
              "c           e         288\n",
              "            p          52\n",
              "n           e         400\n",
              "s           e         880\n",
              "            p         368\n",
              "v           p        2848\n",
              "            e        1192\n",
              "y           e        1064\n",
              "            p         648\n",
              "Name: class, dtype: int64"
            ]
          },
          "metadata": {},
          "execution_count": 70
        }
      ]
    },
    {
      "cell_type": "code",
      "metadata": {
        "colab": {
          "base_uri": "https://localhost:8080/",
          "height": 296
        },
        "id": "PCMMKphj04lm",
        "outputId": "dd96e87d-07ef-4fb5-d3ac-adb8a4fe4fba"
      },
      "source": [
        "sns.countplot(data=df, x='population', hue='class', palette='pastel')"
      ],
      "execution_count": null,
      "outputs": [
        {
          "output_type": "execute_result",
          "data": {
            "text/plain": [
              "<matplotlib.axes._subplots.AxesSubplot at 0x7f95a9d6e650>"
            ]
          },
          "metadata": {},
          "execution_count": 71
        },
        {
          "output_type": "display_data",
          "data": {
            "image/png": "[encoded data removed]",
            "text/plain": [
              "<Figure size 432x288 with 1 Axes>"
            ]
          },
          "metadata": {
            "needs_background": "light"
          }
        }
      ]
    },
    {
      "cell_type": "markdown",
      "metadata": {
        "id": "SchVUfYJ1HSH"
      },
      "source": [
        "É interessante notar que todos os cogumelos classificados como abundantes são comestíveis, a maioria dos que apresentam as populações em cluster também são comestíveis, os que tem como característica serem numerosos também. "
      ]
    },
    {
      "cell_type": "markdown",
      "metadata": {
        "id": "mzJpUARSH0H9"
      },
      "source": [
        "## Dos cogumelos comestíveis"
      ]
    },
    {
      "cell_type": "code",
      "metadata": {
        "colab": {
          "base_uri": "https://localhost:8080/"
        },
        "id": "kAkOMX6C18TN",
        "outputId": "14442da4-3afd-4af8-89ae-4c8a37b1e54f"
      },
      "source": [
        "selecao_edible = df['class'].isin(['e'])\n",
        "selecao_edible"
      ],
      "execution_count": null,
      "outputs": [
        {
          "output_type": "execute_result",
          "data": {
            "text/plain": [
              "0       False\n",
              "1        True\n",
              "2        True\n",
              "3       False\n",
              "4        True\n",
              "        ...  \n",
              "8119     True\n",
              "8120     True\n",
              "8121     True\n",
              "8122    False\n",
              "8123     True\n",
              "Name: class, Length: 8124, dtype: bool"
            ]
          },
          "metadata": {},
          "execution_count": 72
        }
      ]
    },
    {
      "cell_type": "code",
      "metadata": {
        "colab": {
          "base_uri": "https://localhost:8080/",
          "height": 476
        },
        "id": "t2Qm_TeQ2ngc",
        "outputId": "d689af8e-e018-46e7-850a-35bfc8c9d613"
      },
      "source": [
        "class_edible = df[selecao_edible]\n",
        "class_edible"
      ],
      "execution_count": null,
      "outputs": [
        {
          "output_type": "execute_result",
          "data": {
            "text/html": [
              "<div>\n",
              "<style scoped>\n",
              "    .dataframe tbody tr th:only-of-type {\n",
              "        vertical-align: middle;\n",
              "    }\n",
              "\n",
              "    .dataframe tbody tr th {\n",
              "        vertical-align: top;\n",
              "    }\n",
              "\n",
              "    .dataframe thead th {\n",
              "        text-align: right;\n",
              "    }\n",
              "</style>\n",
              "<table border=\"1\" class=\"dataframe\">\n",
              "  <thead>\n",
              "    <tr style=\"text-align: right;\">\n",
              "      <th></th>\n",
              "      <th>class</th>\n",
              "      <th>cap-shape</th>\n",
              "      <th>cap-surface</th>\n",
              "      <th>cap-color</th>\n",
              "      <th>bruises</th>\n",
              "      <th>odor</th>\n",
              "      <th>gill-attachment</th>\n",
              "      <th>gill-spacing</th>\n",
              "      <th>gill-size</th>\n",
              "      <th>gill-color</th>\n",
              "      <th>stalk-shape</th>\n",
              "      <th>stalk-root</th>\n",
              "      <th>stalk-surface-above-ring</th>\n",
              "      <th>stalk-surface-below-ring</th>\n",
              "      <th>stalk-color-above-ring</th>\n",
              "      <th>stalk-color-below-ring</th>\n",
              "      <th>veil-type</th>\n",
              "      <th>veil-color</th>\n",
              "      <th>ring-number</th>\n",
              "      <th>ring-type</th>\n",
              "      <th>spore-print-color</th>\n",
              "      <th>population</th>\n",
              "      <th>habitat</th>\n",
              "    </tr>\n",
              "  </thead>\n",
              "  <tbody>\n",
              "    <tr>\n",
              "      <th>1</th>\n",
              "      <td>e</td>\n",
              "      <td>x</td>\n",
              "      <td>s</td>\n",
              "      <td>y</td>\n",
              "      <td>t</td>\n",
              "      <td>a</td>\n",
              "      <td>f</td>\n",
              "      <td>c</td>\n",
              "      <td>b</td>\n",
              "      <td>k</td>\n",
              "      <td>e</td>\n",
              "      <td>c</td>\n",
              "      <td>s</td>\n",
              "      <td>s</td>\n",
              "      <td>w</td>\n",
              "      <td>w</td>\n",
              "      <td>p</td>\n",
              "      <td>w</td>\n",
              "      <td>o</td>\n",
              "      <td>p</td>\n",
              "      <td>n</td>\n",
              "      <td>n</td>\n",
              "      <td>g</td>\n",
              "    </tr>\n",
              "    <tr>\n",
              "      <th>2</th>\n",
              "      <td>e</td>\n",
              "      <td>b</td>\n",
              "      <td>s</td>\n",
              "      <td>w</td>\n",
              "      <td>t</td>\n",
              "      <td>l</td>\n",
              "      <td>f</td>\n",
              "      <td>c</td>\n",
              "      <td>b</td>\n",
              "      <td>n</td>\n",
              "      <td>e</td>\n",
              "      <td>c</td>\n",
              "      <td>s</td>\n",
              "      <td>s</td>\n",
              "      <td>w</td>\n",
              "      <td>w</td>\n",
              "      <td>p</td>\n",
              "      <td>w</td>\n",
              "      <td>o</td>\n",
              "      <td>p</td>\n",
              "      <td>n</td>\n",
              "      <td>n</td>\n",
              "      <td>m</td>\n",
              "    </tr>\n",
              "    <tr>\n",
              "      <th>4</th>\n",
              "      <td>e</td>\n",
              "      <td>x</td>\n",
              "      <td>s</td>\n",
              "      <td>g</td>\n",
              "      <td>f</td>\n",
              "      <td>n</td>\n",
              "      <td>f</td>\n",
              "      <td>w</td>\n",
              "      <td>b</td>\n",
              "      <td>k</td>\n",
              "      <td>t</td>\n",
              "      <td>e</td>\n",
              "      <td>s</td>\n",
              "      <td>s</td>\n",
              "      <td>w</td>\n",
              "      <td>w</td>\n",
              "      <td>p</td>\n",
              "      <td>w</td>\n",
              "      <td>o</td>\n",
              "      <td>e</td>\n",
              "      <td>n</td>\n",
              "      <td>a</td>\n",
              "      <td>g</td>\n",
              "    </tr>\n",
              "    <tr>\n",
              "      <th>5</th>\n",
              "      <td>e</td>\n",
              "      <td>x</td>\n",
              "      <td>y</td>\n",
              "      <td>y</td>\n",
              "      <td>t</td>\n",
              "      <td>a</td>\n",
              "      <td>f</td>\n",
              "      <td>c</td>\n",
              "      <td>b</td>\n",
              "      <td>n</td>\n",
              "      <td>e</td>\n",
              "      <td>c</td>\n",
              "      <td>s</td>\n",
              "      <td>s</td>\n",
              "      <td>w</td>\n",
              "      <td>w</td>\n",
              "      <td>p</td>\n",
              "      <td>w</td>\n",
              "      <td>o</td>\n",
              "      <td>p</td>\n",
              "      <td>k</td>\n",
              "      <td>n</td>\n",
              "      <td>g</td>\n",
              "    </tr>\n",
              "    <tr>\n",
              "      <th>6</th>\n",
              "      <td>e</td>\n",
              "      <td>b</td>\n",
              "      <td>s</td>\n",
              "      <td>w</td>\n",
              "      <td>t</td>\n",
              "      <td>a</td>\n",
              "      <td>f</td>\n",
              "      <td>c</td>\n",
              "      <td>b</td>\n",
              "      <td>g</td>\n",
              "      <td>e</td>\n",
              "      <td>c</td>\n",
              "      <td>s</td>\n",
              "      <td>s</td>\n",
              "      <td>w</td>\n",
              "      <td>w</td>\n",
              "      <td>p</td>\n",
              "      <td>w</td>\n",
              "      <td>o</td>\n",
              "      <td>p</td>\n",
              "      <td>k</td>\n",
              "      <td>n</td>\n",
              "      <td>m</td>\n",
              "    </tr>\n",
              "    <tr>\n",
              "      <th>...</th>\n",
              "      <td>...</td>\n",
              "      <td>...</td>\n",
              "      <td>...</td>\n",
              "      <td>...</td>\n",
              "      <td>...</td>\n",
              "      <td>...</td>\n",
              "      <td>...</td>\n",
              "      <td>...</td>\n",
              "      <td>...</td>\n",
              "      <td>...</td>\n",
              "      <td>...</td>\n",
              "      <td>...</td>\n",
              "      <td>...</td>\n",
              "      <td>...</td>\n",
              "      <td>...</td>\n",
              "      <td>...</td>\n",
              "      <td>...</td>\n",
              "      <td>...</td>\n",
              "      <td>...</td>\n",
              "      <td>...</td>\n",
              "      <td>...</td>\n",
              "      <td>...</td>\n",
              "      <td>...</td>\n",
              "    </tr>\n",
              "    <tr>\n",
              "      <th>8115</th>\n",
              "      <td>e</td>\n",
              "      <td>x</td>\n",
              "      <td>s</td>\n",
              "      <td>n</td>\n",
              "      <td>f</td>\n",
              "      <td>n</td>\n",
              "      <td>a</td>\n",
              "      <td>c</td>\n",
              "      <td>b</td>\n",
              "      <td>y</td>\n",
              "      <td>e</td>\n",
              "      <td>?</td>\n",
              "      <td>s</td>\n",
              "      <td>s</td>\n",
              "      <td>o</td>\n",
              "      <td>o</td>\n",
              "      <td>p</td>\n",
              "      <td>o</td>\n",
              "      <td>o</td>\n",
              "      <td>p</td>\n",
              "      <td>o</td>\n",
              "      <td>v</td>\n",
              "      <td>l</td>\n",
              "    </tr>\n",
              "    <tr>\n",
              "      <th>8119</th>\n",
              "      <td>e</td>\n",
              "      <td>k</td>\n",
              "      <td>s</td>\n",
              "      <td>n</td>\n",
              "      <td>f</td>\n",
              "      <td>n</td>\n",
              "      <td>a</td>\n",
              "      <td>c</td>\n",
              "      <td>b</td>\n",
              "      <td>y</td>\n",
              "      <td>e</td>\n",
              "      <td>?</td>\n",
              "      <td>s</td>\n",
              "      <td>s</td>\n",
              "      <td>o</td>\n",
              "      <td>o</td>\n",
              "      <td>p</td>\n",
              "      <td>o</td>\n",
              "      <td>o</td>\n",
              "      <td>p</td>\n",
              "      <td>b</td>\n",
              "      <td>c</td>\n",
              "      <td>l</td>\n",
              "    </tr>\n",
              "    <tr>\n",
              "      <th>8120</th>\n",
              "      <td>e</td>\n",
              "      <td>x</td>\n",
              "      <td>s</td>\n",
              "      <td>n</td>\n",
              "      <td>f</td>\n",
              "      <td>n</td>\n",
              "      <td>a</td>\n",
              "      <td>c</td>\n",
              "      <td>b</td>\n",
              "      <td>y</td>\n",
              "      <td>e</td>\n",
              "      <td>?</td>\n",
              "      <td>s</td>\n",
              "      <td>s</td>\n",
              "      <td>o</td>\n",
              "      <td>o</td>\n",
              "      <td>p</td>\n",
              "      <td>n</td>\n",
              "      <td>o</td>\n",
              "      <td>p</td>\n",
              "      <td>b</td>\n",
              "      <td>v</td>\n",
              "      <td>l</td>\n",
              "    </tr>\n",
              "    <tr>\n",
              "      <th>8121</th>\n",
              "      <td>e</td>\n",
              "      <td>f</td>\n",
              "      <td>s</td>\n",
              "      <td>n</td>\n",
              "      <td>f</td>\n",
              "      <td>n</td>\n",
              "      <td>a</td>\n",
              "      <td>c</td>\n",
              "      <td>b</td>\n",
              "      <td>n</td>\n",
              "      <td>e</td>\n",
              "      <td>?</td>\n",
              "      <td>s</td>\n",
              "      <td>s</td>\n",
              "      <td>o</td>\n",
              "      <td>o</td>\n",
              "      <td>p</td>\n",
              "      <td>o</td>\n",
              "      <td>o</td>\n",
              "      <td>p</td>\n",
              "      <td>b</td>\n",
              "      <td>c</td>\n",
              "      <td>l</td>\n",
              "    </tr>\n",
              "    <tr>\n",
              "      <th>8123</th>\n",
              "      <td>e</td>\n",
              "      <td>x</td>\n",
              "      <td>s</td>\n",
              "      <td>n</td>\n",
              "      <td>f</td>\n",
              "      <td>n</td>\n",
              "      <td>a</td>\n",
              "      <td>c</td>\n",
              "      <td>b</td>\n",
              "      <td>y</td>\n",
              "      <td>e</td>\n",
              "      <td>?</td>\n",
              "      <td>s</td>\n",
              "      <td>s</td>\n",
              "      <td>o</td>\n",
              "      <td>o</td>\n",
              "      <td>p</td>\n",
              "      <td>o</td>\n",
              "      <td>o</td>\n",
              "      <td>p</td>\n",
              "      <td>o</td>\n",
              "      <td>c</td>\n",
              "      <td>l</td>\n",
              "    </tr>\n",
              "  </tbody>\n",
              "</table>\n",
              "<p>4208 rows × 23 columns</p>\n",
              "</div>"
            ],
            "text/plain": [
              "     class cap-shape cap-surface  ... spore-print-color population habitat\n",
              "1        e         x           s  ...                 n          n       g\n",
              "2        e         b           s  ...                 n          n       m\n",
              "4        e         x           s  ...                 n          a       g\n",
              "5        e         x           y  ...                 k          n       g\n",
              "6        e         b           s  ...                 k          n       m\n",
              "...    ...       ...         ...  ...               ...        ...     ...\n",
              "8115     e         x           s  ...                 o          v       l\n",
              "8119     e         k           s  ...                 b          c       l\n",
              "8120     e         x           s  ...                 b          v       l\n",
              "8121     e         f           s  ...                 b          c       l\n",
              "8123     e         x           s  ...                 o          c       l\n",
              "\n",
              "[4208 rows x 23 columns]"
            ]
          },
          "metadata": {},
          "execution_count": 73
        }
      ]
    },
    {
      "cell_type": "code",
      "metadata": {
        "colab": {
          "base_uri": "https://localhost:8080/",
          "height": 771
        },
        "id": "k53wpp7_HMjM",
        "outputId": "907f8f82-ffa0-456f-8f9a-d09e2e8f124c"
      },
      "source": [
        "class_edible.describe().T"
      ],
      "execution_count": null,
      "outputs": [
        {
          "output_type": "execute_result",
          "data": {
            "text/html": [
              "<div>\n",
              "<style scoped>\n",
              "    .dataframe tbody tr th:only-of-type {\n",
              "        vertical-align: middle;\n",
              "    }\n",
              "\n",
              "    .dataframe tbody tr th {\n",
              "        vertical-align: top;\n",
              "    }\n",
              "\n",
              "    .dataframe thead th {\n",
              "        text-align: right;\n",
              "    }\n",
              "</style>\n",
              "<table border=\"1\" class=\"dataframe\">\n",
              "  <thead>\n",
              "    <tr style=\"text-align: right;\">\n",
              "      <th></th>\n",
              "      <th>count</th>\n",
              "      <th>unique</th>\n",
              "      <th>top</th>\n",
              "      <th>freq</th>\n",
              "    </tr>\n",
              "  </thead>\n",
              "  <tbody>\n",
              "    <tr>\n",
              "      <th>class</th>\n",
              "      <td>4208</td>\n",
              "      <td>1</td>\n",
              "      <td>e</td>\n",
              "      <td>4208</td>\n",
              "    </tr>\n",
              "    <tr>\n",
              "      <th>cap-shape</th>\n",
              "      <td>4208</td>\n",
              "      <td>5</td>\n",
              "      <td>x</td>\n",
              "      <td>1948</td>\n",
              "    </tr>\n",
              "    <tr>\n",
              "      <th>cap-surface</th>\n",
              "      <td>4208</td>\n",
              "      <td>3</td>\n",
              "      <td>f</td>\n",
              "      <td>1560</td>\n",
              "    </tr>\n",
              "    <tr>\n",
              "      <th>cap-color</th>\n",
              "      <td>4208</td>\n",
              "      <td>10</td>\n",
              "      <td>n</td>\n",
              "      <td>1264</td>\n",
              "    </tr>\n",
              "    <tr>\n",
              "      <th>bruises</th>\n",
              "      <td>4208</td>\n",
              "      <td>2</td>\n",
              "      <td>t</td>\n",
              "      <td>2752</td>\n",
              "    </tr>\n",
              "    <tr>\n",
              "      <th>odor</th>\n",
              "      <td>4208</td>\n",
              "      <td>3</td>\n",
              "      <td>n</td>\n",
              "      <td>3408</td>\n",
              "    </tr>\n",
              "    <tr>\n",
              "      <th>gill-attachment</th>\n",
              "      <td>4208</td>\n",
              "      <td>2</td>\n",
              "      <td>f</td>\n",
              "      <td>4016</td>\n",
              "    </tr>\n",
              "    <tr>\n",
              "      <th>gill-spacing</th>\n",
              "      <td>4208</td>\n",
              "      <td>2</td>\n",
              "      <td>c</td>\n",
              "      <td>3008</td>\n",
              "    </tr>\n",
              "    <tr>\n",
              "      <th>gill-size</th>\n",
              "      <td>4208</td>\n",
              "      <td>2</td>\n",
              "      <td>b</td>\n",
              "      <td>3920</td>\n",
              "    </tr>\n",
              "    <tr>\n",
              "      <th>gill-color</th>\n",
              "      <td>4208</td>\n",
              "      <td>10</td>\n",
              "      <td>w</td>\n",
              "      <td>956</td>\n",
              "    </tr>\n",
              "    <tr>\n",
              "      <th>stalk-shape</th>\n",
              "      <td>4208</td>\n",
              "      <td>2</td>\n",
              "      <td>t</td>\n",
              "      <td>2592</td>\n",
              "    </tr>\n",
              "    <tr>\n",
              "      <th>stalk-root</th>\n",
              "      <td>4208</td>\n",
              "      <td>5</td>\n",
              "      <td>b</td>\n",
              "      <td>1920</td>\n",
              "    </tr>\n",
              "    <tr>\n",
              "      <th>stalk-surface-above-ring</th>\n",
              "      <td>4208</td>\n",
              "      <td>4</td>\n",
              "      <td>s</td>\n",
              "      <td>3640</td>\n",
              "    </tr>\n",
              "    <tr>\n",
              "      <th>stalk-surface-below-ring</th>\n",
              "      <td>4208</td>\n",
              "      <td>4</td>\n",
              "      <td>s</td>\n",
              "      <td>3400</td>\n",
              "    </tr>\n",
              "    <tr>\n",
              "      <th>stalk-color-above-ring</th>\n",
              "      <td>4208</td>\n",
              "      <td>6</td>\n",
              "      <td>w</td>\n",
              "      <td>2752</td>\n",
              "    </tr>\n",
              "    <tr>\n",
              "      <th>stalk-color-below-ring</th>\n",
              "      <td>4208</td>\n",
              "      <td>6</td>\n",
              "      <td>w</td>\n",
              "      <td>2704</td>\n",
              "    </tr>\n",
              "    <tr>\n",
              "      <th>veil-type</th>\n",
              "      <td>4208</td>\n",
              "      <td>1</td>\n",
              "      <td>p</td>\n",
              "      <td>4208</td>\n",
              "    </tr>\n",
              "    <tr>\n",
              "      <th>veil-color</th>\n",
              "      <td>4208</td>\n",
              "      <td>3</td>\n",
              "      <td>w</td>\n",
              "      <td>4016</td>\n",
              "    </tr>\n",
              "    <tr>\n",
              "      <th>ring-number</th>\n",
              "      <td>4208</td>\n",
              "      <td>2</td>\n",
              "      <td>o</td>\n",
              "      <td>3680</td>\n",
              "    </tr>\n",
              "    <tr>\n",
              "      <th>ring-type</th>\n",
              "      <td>4208</td>\n",
              "      <td>3</td>\n",
              "      <td>p</td>\n",
              "      <td>3152</td>\n",
              "    </tr>\n",
              "    <tr>\n",
              "      <th>spore-print-color</th>\n",
              "      <td>4208</td>\n",
              "      <td>8</td>\n",
              "      <td>n</td>\n",
              "      <td>1744</td>\n",
              "    </tr>\n",
              "    <tr>\n",
              "      <th>population</th>\n",
              "      <td>4208</td>\n",
              "      <td>6</td>\n",
              "      <td>v</td>\n",
              "      <td>1192</td>\n",
              "    </tr>\n",
              "    <tr>\n",
              "      <th>habitat</th>\n",
              "      <td>4208</td>\n",
              "      <td>7</td>\n",
              "      <td>d</td>\n",
              "      <td>1880</td>\n",
              "    </tr>\n",
              "  </tbody>\n",
              "</table>\n",
              "</div>"
            ],
            "text/plain": [
              "                         count unique top  freq\n",
              "class                     4208      1   e  4208\n",
              "cap-shape                 4208      5   x  1948\n",
              "cap-surface               4208      3   f  1560\n",
              "cap-color                 4208     10   n  1264\n",
              "bruises                   4208      2   t  2752\n",
              "odor                      4208      3   n  3408\n",
              "gill-attachment           4208      2   f  4016\n",
              "gill-spacing              4208      2   c  3008\n",
              "gill-size                 4208      2   b  3920\n",
              "gill-color                4208     10   w   956\n",
              "stalk-shape               4208      2   t  2592\n",
              "stalk-root                4208      5   b  1920\n",
              "stalk-surface-above-ring  4208      4   s  3640\n",
              "stalk-surface-below-ring  4208      4   s  3400\n",
              "stalk-color-above-ring    4208      6   w  2752\n",
              "stalk-color-below-ring    4208      6   w  2704\n",
              "veil-type                 4208      1   p  4208\n",
              "veil-color                4208      3   w  4016\n",
              "ring-number               4208      2   o  3680\n",
              "ring-type                 4208      3   p  3152\n",
              "spore-print-color         4208      8   n  1744\n",
              "population                4208      6   v  1192\n",
              "habitat                   4208      7   d  1880"
            ]
          },
          "metadata": {},
          "execution_count": 74
        }
      ]
    },
    {
      "cell_type": "markdown",
      "metadata": {
        "id": "EPiQY0MGxWD1"
      },
      "source": [
        "# **Aplicação da análise de Agrupamento KModes**\n"
      ]
    },
    {
      "cell_type": "markdown",
      "metadata": {
        "id": "t4kThfk5QZDI"
      },
      "source": [
        "O primeiro passo é retirar a coluna 'class' pois esse é o dado que queremos testar. Pode-se retirar também o coluna veil-type pois apresenta apenas um valor para todas as amostras (linhas).\n",
        "\n"
      ]
    },
    {
      "cell_type": "code",
      "metadata": {
        "colab": {
          "base_uri": "https://localhost:8080/",
          "height": 258
        },
        "id": "KSgy8fH26nDW",
        "outputId": "532ecde8-b5fb-4349-da47-5df4bafcd98d"
      },
      "source": [
        "var_morfo = df.drop(columns = ['class'])\n",
        "var_morfo.head()"
      ],
      "execution_count": null,
      "outputs": [
        {
          "output_type": "execute_result",
          "data": {
            "text/html": [
              "<div>\n",
              "<style scoped>\n",
              "    .dataframe tbody tr th:only-of-type {\n",
              "        vertical-align: middle;\n",
              "    }\n",
              "\n",
              "    .dataframe tbody tr th {\n",
              "        vertical-align: top;\n",
              "    }\n",
              "\n",
              "    .dataframe thead th {\n",
              "        text-align: right;\n",
              "    }\n",
              "</style>\n",
              "<table border=\"1\" class=\"dataframe\">\n",
              "  <thead>\n",
              "    <tr style=\"text-align: right;\">\n",
              "      <th></th>\n",
              "      <th>cap-shape</th>\n",
              "      <th>cap-surface</th>\n",
              "      <th>cap-color</th>\n",
              "      <th>bruises</th>\n",
              "      <th>odor</th>\n",
              "      <th>gill-attachment</th>\n",
              "      <th>gill-spacing</th>\n",
              "      <th>gill-size</th>\n",
              "      <th>gill-color</th>\n",
              "      <th>stalk-shape</th>\n",
              "      <th>stalk-root</th>\n",
              "      <th>stalk-surface-above-ring</th>\n",
              "      <th>stalk-surface-below-ring</th>\n",
              "      <th>stalk-color-above-ring</th>\n",
              "      <th>stalk-color-below-ring</th>\n",
              "      <th>veil-type</th>\n",
              "      <th>veil-color</th>\n",
              "      <th>ring-number</th>\n",
              "      <th>ring-type</th>\n",
              "      <th>spore-print-color</th>\n",
              "      <th>population</th>\n",
              "      <th>habitat</th>\n",
              "    </tr>\n",
              "  </thead>\n",
              "  <tbody>\n",
              "    <tr>\n",
              "      <th>0</th>\n",
              "      <td>x</td>\n",
              "      <td>s</td>\n",
              "      <td>n</td>\n",
              "      <td>t</td>\n",
              "      <td>p</td>\n",
              "      <td>f</td>\n",
              "      <td>c</td>\n",
              "      <td>n</td>\n",
              "      <td>k</td>\n",
              "      <td>e</td>\n",
              "      <td>e</td>\n",
              "      <td>s</td>\n",
              "      <td>s</td>\n",
              "      <td>w</td>\n",
              "      <td>w</td>\n",
              "      <td>p</td>\n",
              "      <td>w</td>\n",
              "      <td>o</td>\n",
              "      <td>p</td>\n",
              "      <td>k</td>\n",
              "      <td>s</td>\n",
              "      <td>u</td>\n",
              "    </tr>\n",
              "    <tr>\n",
              "      <th>1</th>\n",
              "      <td>x</td>\n",
              "      <td>s</td>\n",
              "      <td>y</td>\n",
              "      <td>t</td>\n",
              "      <td>a</td>\n",
              "      <td>f</td>\n",
              "      <td>c</td>\n",
              "      <td>b</td>\n",
              "      <td>k</td>\n",
              "      <td>e</td>\n",
              "      <td>c</td>\n",
              "      <td>s</td>\n",
              "      <td>s</td>\n",
              "      <td>w</td>\n",
              "      <td>w</td>\n",
              "      <td>p</td>\n",
              "      <td>w</td>\n",
              "      <td>o</td>\n",
              "      <td>p</td>\n",
              "      <td>n</td>\n",
              "      <td>n</td>\n",
              "      <td>g</td>\n",
              "    </tr>\n",
              "    <tr>\n",
              "      <th>2</th>\n",
              "      <td>b</td>\n",
              "      <td>s</td>\n",
              "      <td>w</td>\n",
              "      <td>t</td>\n",
              "      <td>l</td>\n",
              "      <td>f</td>\n",
              "      <td>c</td>\n",
              "      <td>b</td>\n",
              "      <td>n</td>\n",
              "      <td>e</td>\n",
              "      <td>c</td>\n",
              "      <td>s</td>\n",
              "      <td>s</td>\n",
              "      <td>w</td>\n",
              "      <td>w</td>\n",
              "      <td>p</td>\n",
              "      <td>w</td>\n",
              "      <td>o</td>\n",
              "      <td>p</td>\n",
              "      <td>n</td>\n",
              "      <td>n</td>\n",
              "      <td>m</td>\n",
              "    </tr>\n",
              "    <tr>\n",
              "      <th>3</th>\n",
              "      <td>x</td>\n",
              "      <td>y</td>\n",
              "      <td>w</td>\n",
              "      <td>t</td>\n",
              "      <td>p</td>\n",
              "      <td>f</td>\n",
              "      <td>c</td>\n",
              "      <td>n</td>\n",
              "      <td>n</td>\n",
              "      <td>e</td>\n",
              "      <td>e</td>\n",
              "      <td>s</td>\n",
              "      <td>s</td>\n",
              "      <td>w</td>\n",
              "      <td>w</td>\n",
              "      <td>p</td>\n",
              "      <td>w</td>\n",
              "      <td>o</td>\n",
              "      <td>p</td>\n",
              "      <td>k</td>\n",
              "      <td>s</td>\n",
              "      <td>u</td>\n",
              "    </tr>\n",
              "    <tr>\n",
              "      <th>4</th>\n",
              "      <td>x</td>\n",
              "      <td>s</td>\n",
              "      <td>g</td>\n",
              "      <td>f</td>\n",
              "      <td>n</td>\n",
              "      <td>f</td>\n",
              "      <td>w</td>\n",
              "      <td>b</td>\n",
              "      <td>k</td>\n",
              "      <td>t</td>\n",
              "      <td>e</td>\n",
              "      <td>s</td>\n",
              "      <td>s</td>\n",
              "      <td>w</td>\n",
              "      <td>w</td>\n",
              "      <td>p</td>\n",
              "      <td>w</td>\n",
              "      <td>o</td>\n",
              "      <td>e</td>\n",
              "      <td>n</td>\n",
              "      <td>a</td>\n",
              "      <td>g</td>\n",
              "    </tr>\n",
              "  </tbody>\n",
              "</table>\n",
              "</div>"
            ],
            "text/plain": [
              "  cap-shape cap-surface cap-color  ... spore-print-color population habitat\n",
              "0         x           s         n  ...                 k          s       u\n",
              "1         x           s         y  ...                 n          n       g\n",
              "2         b           s         w  ...                 n          n       m\n",
              "3         x           y         w  ...                 k          s       u\n",
              "4         x           s         g  ...                 n          a       g\n",
              "\n",
              "[5 rows x 22 columns]"
            ]
          },
          "metadata": {},
          "execution_count": 75
        }
      ]
    },
    {
      "cell_type": "code",
      "metadata": {
        "colab": {
          "base_uri": "https://localhost:8080/",
          "height": 206
        },
        "id": "e1G2-vMJ4-Rk",
        "outputId": "14f32acd-bee4-4fc1-95c0-d8791791aa03"
      },
      "source": [
        "alvo = df[['class']]\n",
        "alvo.head()"
      ],
      "execution_count": null,
      "outputs": [
        {
          "output_type": "execute_result",
          "data": {
            "text/html": [
              "<div>\n",
              "<style scoped>\n",
              "    .dataframe tbody tr th:only-of-type {\n",
              "        vertical-align: middle;\n",
              "    }\n",
              "\n",
              "    .dataframe tbody tr th {\n",
              "        vertical-align: top;\n",
              "    }\n",
              "\n",
              "    .dataframe thead th {\n",
              "        text-align: right;\n",
              "    }\n",
              "</style>\n",
              "<table border=\"1\" class=\"dataframe\">\n",
              "  <thead>\n",
              "    <tr style=\"text-align: right;\">\n",
              "      <th></th>\n",
              "      <th>class</th>\n",
              "    </tr>\n",
              "  </thead>\n",
              "  <tbody>\n",
              "    <tr>\n",
              "      <th>0</th>\n",
              "      <td>p</td>\n",
              "    </tr>\n",
              "    <tr>\n",
              "      <th>1</th>\n",
              "      <td>e</td>\n",
              "    </tr>\n",
              "    <tr>\n",
              "      <th>2</th>\n",
              "      <td>e</td>\n",
              "    </tr>\n",
              "    <tr>\n",
              "      <th>3</th>\n",
              "      <td>p</td>\n",
              "    </tr>\n",
              "    <tr>\n",
              "      <th>4</th>\n",
              "      <td>e</td>\n",
              "    </tr>\n",
              "  </tbody>\n",
              "</table>\n",
              "</div>"
            ],
            "text/plain": [
              "  class\n",
              "0     p\n",
              "1     e\n",
              "2     e\n",
              "3     p\n",
              "4     e"
            ]
          },
          "metadata": {},
          "execution_count": 76
        }
      ]
    },
    {
      "cell_type": "code",
      "metadata": {
        "colab": {
          "base_uri": "https://localhost:8080/",
          "height": 258
        },
        "id": "pUpu7AGA_o2N",
        "outputId": "7825c93d-3097-46e0-93b6-3bada4fb280c"
      },
      "source": [
        "var_morfo = var_morfo.drop(columns= ['veil-type'])\n",
        "var_morfo.head()"
      ],
      "execution_count": null,
      "outputs": [
        {
          "output_type": "execute_result",
          "data": {
            "text/html": [
              "<div>\n",
              "<style scoped>\n",
              "    .dataframe tbody tr th:only-of-type {\n",
              "        vertical-align: middle;\n",
              "    }\n",
              "\n",
              "    .dataframe tbody tr th {\n",
              "        vertical-align: top;\n",
              "    }\n",
              "\n",
              "    .dataframe thead th {\n",
              "        text-align: right;\n",
              "    }\n",
              "</style>\n",
              "<table border=\"1\" class=\"dataframe\">\n",
              "  <thead>\n",
              "    <tr style=\"text-align: right;\">\n",
              "      <th></th>\n",
              "      <th>cap-shape</th>\n",
              "      <th>cap-surface</th>\n",
              "      <th>cap-color</th>\n",
              "      <th>bruises</th>\n",
              "      <th>odor</th>\n",
              "      <th>gill-attachment</th>\n",
              "      <th>gill-spacing</th>\n",
              "      <th>gill-size</th>\n",
              "      <th>gill-color</th>\n",
              "      <th>stalk-shape</th>\n",
              "      <th>stalk-root</th>\n",
              "      <th>stalk-surface-above-ring</th>\n",
              "      <th>stalk-surface-below-ring</th>\n",
              "      <th>stalk-color-above-ring</th>\n",
              "      <th>stalk-color-below-ring</th>\n",
              "      <th>veil-color</th>\n",
              "      <th>ring-number</th>\n",
              "      <th>ring-type</th>\n",
              "      <th>spore-print-color</th>\n",
              "      <th>population</th>\n",
              "      <th>habitat</th>\n",
              "    </tr>\n",
              "  </thead>\n",
              "  <tbody>\n",
              "    <tr>\n",
              "      <th>0</th>\n",
              "      <td>x</td>\n",
              "      <td>s</td>\n",
              "      <td>n</td>\n",
              "      <td>t</td>\n",
              "      <td>p</td>\n",
              "      <td>f</td>\n",
              "      <td>c</td>\n",
              "      <td>n</td>\n",
              "      <td>k</td>\n",
              "      <td>e</td>\n",
              "      <td>e</td>\n",
              "      <td>s</td>\n",
              "      <td>s</td>\n",
              "      <td>w</td>\n",
              "      <td>w</td>\n",
              "      <td>w</td>\n",
              "      <td>o</td>\n",
              "      <td>p</td>\n",
              "      <td>k</td>\n",
              "      <td>s</td>\n",
              "      <td>u</td>\n",
              "    </tr>\n",
              "    <tr>\n",
              "      <th>1</th>\n",
              "      <td>x</td>\n",
              "      <td>s</td>\n",
              "      <td>y</td>\n",
              "      <td>t</td>\n",
              "      <td>a</td>\n",
              "      <td>f</td>\n",
              "      <td>c</td>\n",
              "      <td>b</td>\n",
              "      <td>k</td>\n",
              "      <td>e</td>\n",
              "      <td>c</td>\n",
              "      <td>s</td>\n",
              "      <td>s</td>\n",
              "      <td>w</td>\n",
              "      <td>w</td>\n",
              "      <td>w</td>\n",
              "      <td>o</td>\n",
              "      <td>p</td>\n",
              "      <td>n</td>\n",
              "      <td>n</td>\n",
              "      <td>g</td>\n",
              "    </tr>\n",
              "    <tr>\n",
              "      <th>2</th>\n",
              "      <td>b</td>\n",
              "      <td>s</td>\n",
              "      <td>w</td>\n",
              "      <td>t</td>\n",
              "      <td>l</td>\n",
              "      <td>f</td>\n",
              "      <td>c</td>\n",
              "      <td>b</td>\n",
              "      <td>n</td>\n",
              "      <td>e</td>\n",
              "      <td>c</td>\n",
              "      <td>s</td>\n",
              "      <td>s</td>\n",
              "      <td>w</td>\n",
              "      <td>w</td>\n",
              "      <td>w</td>\n",
              "      <td>o</td>\n",
              "      <td>p</td>\n",
              "      <td>n</td>\n",
              "      <td>n</td>\n",
              "      <td>m</td>\n",
              "    </tr>\n",
              "    <tr>\n",
              "      <th>3</th>\n",
              "      <td>x</td>\n",
              "      <td>y</td>\n",
              "      <td>w</td>\n",
              "      <td>t</td>\n",
              "      <td>p</td>\n",
              "      <td>f</td>\n",
              "      <td>c</td>\n",
              "      <td>n</td>\n",
              "      <td>n</td>\n",
              "      <td>e</td>\n",
              "      <td>e</td>\n",
              "      <td>s</td>\n",
              "      <td>s</td>\n",
              "      <td>w</td>\n",
              "      <td>w</td>\n",
              "      <td>w</td>\n",
              "      <td>o</td>\n",
              "      <td>p</td>\n",
              "      <td>k</td>\n",
              "      <td>s</td>\n",
              "      <td>u</td>\n",
              "    </tr>\n",
              "    <tr>\n",
              "      <th>4</th>\n",
              "      <td>x</td>\n",
              "      <td>s</td>\n",
              "      <td>g</td>\n",
              "      <td>f</td>\n",
              "      <td>n</td>\n",
              "      <td>f</td>\n",
              "      <td>w</td>\n",
              "      <td>b</td>\n",
              "      <td>k</td>\n",
              "      <td>t</td>\n",
              "      <td>e</td>\n",
              "      <td>s</td>\n",
              "      <td>s</td>\n",
              "      <td>w</td>\n",
              "      <td>w</td>\n",
              "      <td>w</td>\n",
              "      <td>o</td>\n",
              "      <td>e</td>\n",
              "      <td>n</td>\n",
              "      <td>a</td>\n",
              "      <td>g</td>\n",
              "    </tr>\n",
              "  </tbody>\n",
              "</table>\n",
              "</div>"
            ],
            "text/plain": [
              "  cap-shape cap-surface cap-color  ... spore-print-color population habitat\n",
              "0         x           s         n  ...                 k          s       u\n",
              "1         x           s         y  ...                 n          n       g\n",
              "2         b           s         w  ...                 n          n       m\n",
              "3         x           y         w  ...                 k          s       u\n",
              "4         x           s         g  ...                 n          a       g\n",
              "\n",
              "[5 rows x 21 columns]"
            ]
          },
          "metadata": {},
          "execution_count": 77
        }
      ]
    },
    {
      "cell_type": "code",
      "metadata": {
        "id": "AeZAdog6Fmty"
      },
      "source": [
        "from sklearn import preprocessing"
      ],
      "execution_count": null,
      "outputs": []
    },
    {
      "cell_type": "code",
      "metadata": {
        "colab": {
          "base_uri": "https://localhost:8080/",
          "height": 258
        },
        "id": "G3nbyXYaEwp5",
        "outputId": "ed40b3a4-ff6b-4d3d-b3d1-df2fa4b46ea4"
      },
      "source": [
        "encoder = preprocessing.LabelEncoder()\n",
        "encoded_var_morfo = var_morfo.apply(encoder.fit_transform)\n",
        "encoded_var_morfo.head()"
      ],
      "execution_count": null,
      "outputs": [
        {
          "output_type": "execute_result",
          "data": {
            "text/html": [
              "<div>\n",
              "<style scoped>\n",
              "    .dataframe tbody tr th:only-of-type {\n",
              "        vertical-align: middle;\n",
              "    }\n",
              "\n",
              "    .dataframe tbody tr th {\n",
              "        vertical-align: top;\n",
              "    }\n",
              "\n",
              "    .dataframe thead th {\n",
              "        text-align: right;\n",
              "    }\n",
              "</style>\n",
              "<table border=\"1\" class=\"dataframe\">\n",
              "  <thead>\n",
              "    <tr style=\"text-align: right;\">\n",
              "      <th></th>\n",
              "      <th>cap-shape</th>\n",
              "      <th>cap-surface</th>\n",
              "      <th>cap-color</th>\n",
              "      <th>bruises</th>\n",
              "      <th>odor</th>\n",
              "      <th>gill-attachment</th>\n",
              "      <th>gill-spacing</th>\n",
              "      <th>gill-size</th>\n",
              "      <th>gill-color</th>\n",
              "      <th>stalk-shape</th>\n",
              "      <th>stalk-root</th>\n",
              "      <th>stalk-surface-above-ring</th>\n",
              "      <th>stalk-surface-below-ring</th>\n",
              "      <th>stalk-color-above-ring</th>\n",
              "      <th>stalk-color-below-ring</th>\n",
              "      <th>veil-color</th>\n",
              "      <th>ring-number</th>\n",
              "      <th>ring-type</th>\n",
              "      <th>spore-print-color</th>\n",
              "      <th>population</th>\n",
              "      <th>habitat</th>\n",
              "    </tr>\n",
              "  </thead>\n",
              "  <tbody>\n",
              "    <tr>\n",
              "      <th>0</th>\n",
              "      <td>5</td>\n",
              "      <td>2</td>\n",
              "      <td>4</td>\n",
              "      <td>1</td>\n",
              "      <td>6</td>\n",
              "      <td>1</td>\n",
              "      <td>0</td>\n",
              "      <td>1</td>\n",
              "      <td>4</td>\n",
              "      <td>0</td>\n",
              "      <td>3</td>\n",
              "      <td>2</td>\n",
              "      <td>2</td>\n",
              "      <td>7</td>\n",
              "      <td>7</td>\n",
              "      <td>2</td>\n",
              "      <td>1</td>\n",
              "      <td>4</td>\n",
              "      <td>2</td>\n",
              "      <td>3</td>\n",
              "      <td>5</td>\n",
              "    </tr>\n",
              "    <tr>\n",
              "      <th>1</th>\n",
              "      <td>5</td>\n",
              "      <td>2</td>\n",
              "      <td>9</td>\n",
              "      <td>1</td>\n",
              "      <td>0</td>\n",
              "      <td>1</td>\n",
              "      <td>0</td>\n",
              "      <td>0</td>\n",
              "      <td>4</td>\n",
              "      <td>0</td>\n",
              "      <td>2</td>\n",
              "      <td>2</td>\n",
              "      <td>2</td>\n",
              "      <td>7</td>\n",
              "      <td>7</td>\n",
              "      <td>2</td>\n",
              "      <td>1</td>\n",
              "      <td>4</td>\n",
              "      <td>3</td>\n",
              "      <td>2</td>\n",
              "      <td>1</td>\n",
              "    </tr>\n",
              "    <tr>\n",
              "      <th>2</th>\n",
              "      <td>0</td>\n",
              "      <td>2</td>\n",
              "      <td>8</td>\n",
              "      <td>1</td>\n",
              "      <td>3</td>\n",
              "      <td>1</td>\n",
              "      <td>0</td>\n",
              "      <td>0</td>\n",
              "      <td>5</td>\n",
              "      <td>0</td>\n",
              "      <td>2</td>\n",
              "      <td>2</td>\n",
              "      <td>2</td>\n",
              "      <td>7</td>\n",
              "      <td>7</td>\n",
              "      <td>2</td>\n",
              "      <td>1</td>\n",
              "      <td>4</td>\n",
              "      <td>3</td>\n",
              "      <td>2</td>\n",
              "      <td>3</td>\n",
              "    </tr>\n",
              "    <tr>\n",
              "      <th>3</th>\n",
              "      <td>5</td>\n",
              "      <td>3</td>\n",
              "      <td>8</td>\n",
              "      <td>1</td>\n",
              "      <td>6</td>\n",
              "      <td>1</td>\n",
              "      <td>0</td>\n",
              "      <td>1</td>\n",
              "      <td>5</td>\n",
              "      <td>0</td>\n",
              "      <td>3</td>\n",
              "      <td>2</td>\n",
              "      <td>2</td>\n",
              "      <td>7</td>\n",
              "      <td>7</td>\n",
              "      <td>2</td>\n",
              "      <td>1</td>\n",
              "      <td>4</td>\n",
              "      <td>2</td>\n",
              "      <td>3</td>\n",
              "      <td>5</td>\n",
              "    </tr>\n",
              "    <tr>\n",
              "      <th>4</th>\n",
              "      <td>5</td>\n",
              "      <td>2</td>\n",
              "      <td>3</td>\n",
              "      <td>0</td>\n",
              "      <td>5</td>\n",
              "      <td>1</td>\n",
              "      <td>1</td>\n",
              "      <td>0</td>\n",
              "      <td>4</td>\n",
              "      <td>1</td>\n",
              "      <td>3</td>\n",
              "      <td>2</td>\n",
              "      <td>2</td>\n",
              "      <td>7</td>\n",
              "      <td>7</td>\n",
              "      <td>2</td>\n",
              "      <td>1</td>\n",
              "      <td>0</td>\n",
              "      <td>3</td>\n",
              "      <td>0</td>\n",
              "      <td>1</td>\n",
              "    </tr>\n",
              "  </tbody>\n",
              "</table>\n",
              "</div>"
            ],
            "text/plain": [
              "   cap-shape  cap-surface  cap-color  ...  spore-print-color  population  habitat\n",
              "0          5            2          4  ...                  2           3        5\n",
              "1          5            2          9  ...                  3           2        1\n",
              "2          0            2          8  ...                  3           2        3\n",
              "3          5            3          8  ...                  2           3        5\n",
              "4          5            2          3  ...                  3           0        1\n",
              "\n",
              "[5 rows x 21 columns]"
            ]
          },
          "metadata": {},
          "execution_count": 79
        }
      ]
    },
    {
      "cell_type": "markdown",
      "metadata": {
        "id": "w64mFK0348nO"
      },
      "source": [
        "Apesar de saber que queremos separar os cogumelos em dois grupos distinto, vamos aplicar a curva do cotovelo para determinar quantos grupos serão formados:"
      ]
    },
    {
      "cell_type": "code",
      "metadata": {
        "colab": {
          "base_uri": "https://localhost:8080/",
          "height": 1000
        },
        "id": "EaL9AzvsY1g_",
        "outputId": "18560607-7816-49e4-bae9-be67aebefd4d"
      },
      "source": [
        "#Curva do cotovelo para encontrar o número ideal de grupos\n",
        "cost = []\n",
        "K = range(1,5)\n",
        "for num_clusters in list(K):\n",
        "    kmode = KModes(n_clusters=num_clusters, init = \"random\", n_init = 5, verbose=1)\n",
        "    kmode.fit_predict(encoded_var_morfo)\n",
        "    cost.append(kmode.cost_)\n",
        "    \n",
        "plt.plot(K, cost, 'bx-')\n",
        "plt.xlabel('No. of clusters')\n",
        "plt.ylabel('Cost')\n",
        "plt.title('Elbow Method For Optimal k')\n",
        "plt.show()\n"
      ],
      "execution_count": null,
      "outputs": [
        {
          "output_type": "stream",
          "name": "stdout",
          "text": [
            "Init: initializing centroids\n",
            "Init: initializing clusters\n",
            "Starting iterations...\n",
            "Run 1, iteration: 1/100, moves: 0, cost: 74778.0\n",
            "Init: initializing centroids\n",
            "Init: initializing clusters\n",
            "Starting iterations...\n",
            "Run 2, iteration: 1/100, moves: 0, cost: 74778.0\n",
            "Init: initializing centroids\n",
            "Init: initializing clusters\n",
            "Starting iterations...\n",
            "Run 3, iteration: 1/100, moves: 0, cost: 74778.0\n",
            "Init: initializing centroids\n",
            "Init: initializing clusters\n",
            "Starting iterations...\n",
            "Run 4, iteration: 1/100, moves: 0, cost: 74778.0\n",
            "Init: initializing centroids\n",
            "Init: initializing clusters\n",
            "Starting iterations...\n",
            "Run 5, iteration: 1/100, moves: 0, cost: 74778.0\n",
            "Best run was number 1\n",
            "Init: initializing centroids\n",
            "Init: initializing clusters\n",
            "Starting iterations...\n",
            "Run 1, iteration: 1/100, moves: 739, cost: 62474.0\n",
            "Run 1, iteration: 2/100, moves: 43, cost: 62474.0\n",
            "Init: initializing centroids\n",
            "Init: initializing clusters\n",
            "Starting iterations...\n",
            "Run 2, iteration: 1/100, moves: 1865, cost: 66344.0\n",
            "Run 2, iteration: 2/100, moves: 1580, cost: 63664.0\n",
            "Run 2, iteration: 3/100, moves: 747, cost: 63002.0\n",
            "Run 2, iteration: 4/100, moves: 148, cost: 63002.0\n",
            "Init: initializing centroids\n",
            "Init: initializing clusters\n",
            "Starting iterations...\n",
            "Run 3, iteration: 1/100, moves: 1772, cost: 64051.0\n",
            "Run 3, iteration: 2/100, moves: 658, cost: 63015.0\n",
            "Run 3, iteration: 3/100, moves: 124, cost: 63015.0\n",
            "Init: initializing centroids\n",
            "Init: initializing clusters\n",
            "Starting iterations...\n",
            "Run 4, iteration: 1/100, moves: 2269, cost: 63015.0\n",
            "Run 4, iteration: 2/100, moves: 339, cost: 63015.0\n",
            "Init: initializing centroids\n",
            "Init: initializing clusters\n",
            "Starting iterations...\n",
            "Run 5, iteration: 1/100, moves: 853, cost: 63322.0\n",
            "Run 5, iteration: 2/100, moves: 523, cost: 62500.0\n",
            "Run 5, iteration: 3/100, moves: 100, cost: 62500.0\n",
            "Best run was number 1\n",
            "Init: initializing centroids\n",
            "Init: initializing clusters\n",
            "Starting iterations...\n",
            "Run 1, iteration: 1/100, moves: 1882, cost: 53723.0\n",
            "Run 1, iteration: 2/100, moves: 1017, cost: 53541.0\n",
            "Run 1, iteration: 3/100, moves: 209, cost: 53541.0\n",
            "Init: initializing centroids\n",
            "Init: initializing clusters\n",
            "Starting iterations...\n",
            "Run 2, iteration: 1/100, moves: 2617, cost: 59954.0\n",
            "Run 2, iteration: 2/100, moves: 2011, cost: 56531.0\n",
            "Run 2, iteration: 3/100, moves: 1655, cost: 53529.0\n",
            "Run 2, iteration: 4/100, moves: 45, cost: 53529.0\n",
            "Init: initializing centroids\n",
            "Init: initializing clusters\n",
            "Starting iterations...\n",
            "Run 3, iteration: 1/100, moves: 3195, cost: 57962.0\n",
            "Run 3, iteration: 2/100, moves: 314, cost: 57892.0\n",
            "Run 3, iteration: 3/100, moves: 54, cost: 57892.0\n",
            "Init: initializing centroids\n",
            "Init: initializing clusters\n",
            "Starting iterations...\n",
            "Run 4, iteration: 1/100, moves: 1731, cost: 53763.0\n",
            "Run 4, iteration: 2/100, moves: 688, cost: 53475.0\n",
            "Run 4, iteration: 3/100, moves: 121, cost: 53475.0\n",
            "Init: initializing centroids\n",
            "Init: initializing clusters\n",
            "Starting iterations...\n",
            "Run 5, iteration: 1/100, moves: 1920, cost: 61922.0\n",
            "Run 5, iteration: 2/100, moves: 552, cost: 61874.0\n",
            "Run 5, iteration: 3/100, moves: 312, cost: 61540.0\n",
            "Run 5, iteration: 4/100, moves: 1037, cost: 58424.0\n",
            "Run 5, iteration: 5/100, moves: 461, cost: 58279.0\n",
            "Run 5, iteration: 6/100, moves: 24, cost: 58279.0\n",
            "Best run was number 4\n",
            "Init: initializing centroids\n",
            "Init: initializing clusters\n",
            "Starting iterations...\n",
            "Run 1, iteration: 1/100, moves: 2094, cost: 49247.0\n",
            "Run 1, iteration: 2/100, moves: 843, cost: 48595.0\n",
            "Run 1, iteration: 3/100, moves: 74, cost: 48595.0\n",
            "Init: initializing centroids\n",
            "Init: initializing clusters\n",
            "Starting iterations...\n",
            "Run 2, iteration: 1/100, moves: 1939, cost: 50439.0\n",
            "Run 2, iteration: 2/100, moves: 1227, cost: 48901.0\n",
            "Run 2, iteration: 3/100, moves: 227, cost: 48901.0\n",
            "Init: initializing centroids\n",
            "Init: initializing clusters\n",
            "Starting iterations...\n",
            "Run 3, iteration: 1/100, moves: 1835, cost: 49891.0\n",
            "Run 3, iteration: 2/100, moves: 960, cost: 48923.0\n",
            "Run 3, iteration: 3/100, moves: 1, cost: 48923.0\n",
            "Init: initializing centroids\n",
            "Init: initializing clusters\n",
            "Starting iterations...\n",
            "Run 4, iteration: 1/100, moves: 2124, cost: 52627.0\n",
            "Run 4, iteration: 2/100, moves: 405, cost: 52599.0\n",
            "Run 4, iteration: 3/100, moves: 0, cost: 52599.0\n",
            "Init: initializing centroids\n",
            "Init: initializing clusters\n",
            "Starting iterations...\n",
            "Run 5, iteration: 1/100, moves: 1108, cost: 55054.0\n",
            "Run 5, iteration: 2/100, moves: 489, cost: 55054.0\n",
            "Best run was number 1\n"
          ]
        },
        {
          "output_type": "display_data",
          "data": {
            "image/png": "[encoded data removed]",
            "text/plain": [
              "<Figure size 432x288 with 1 Axes>"
            ]
          },
          "metadata": {
            "needs_background": "light"
          }
        }
      ]
    },
    {
      "cell_type": "markdown",
      "metadata": {
        "id": "JHjMaFE6QrVH"
      },
      "source": [
        "Pode-se observar que serão formados dois grupos."
      ]
    },
    {
      "cell_type": "markdown",
      "metadata": {
        "id": "ThI0r7xjKVk3"
      },
      "source": [
        "# Construindo o modelo com dois grupos"
      ]
    },
    {
      "cell_type": "code",
      "metadata": {
        "colab": {
          "base_uri": "https://localhost:8080/"
        },
        "id": "nUDewxFhQ0jP",
        "outputId": "bed0bb01-6f44-4305-fe8b-b6ce565e2f94"
      },
      "source": [
        "\n",
        "kmode = KModes(n_clusters=2, init = \"random\", n_init = 5, verbose=1)\n",
        "clusters = kmode.fit_predict(encoded_var_morfo)\n",
        "clusters"
      ],
      "execution_count": null,
      "outputs": [
        {
          "output_type": "stream",
          "name": "stdout",
          "text": [
            "Init: initializing centroids\n",
            "Init: initializing clusters\n",
            "Starting iterations...\n",
            "Run 1, iteration: 1/100, moves: 1643, cost: 68582.0\n",
            "Init: initializing centroids\n",
            "Init: initializing clusters\n",
            "Starting iterations...\n",
            "Run 2, iteration: 1/100, moves: 597, cost: 62950.0\n",
            "Run 2, iteration: 2/100, moves: 389, cost: 62474.0\n",
            "Run 2, iteration: 3/100, moves: 9, cost: 62474.0\n",
            "Init: initializing centroids\n",
            "Init: initializing clusters\n",
            "Starting iterations...\n",
            "Run 3, iteration: 1/100, moves: 2562, cost: 63851.0\n",
            "Run 3, iteration: 2/100, moves: 323, cost: 63851.0\n",
            "Init: initializing centroids\n",
            "Init: initializing clusters\n",
            "Starting iterations...\n",
            "Run 4, iteration: 1/100, moves: 875, cost: 64972.0\n",
            "Run 4, iteration: 2/100, moves: 197, cost: 64972.0\n",
            "Init: initializing centroids\n",
            "Init: initializing clusters\n",
            "Starting iterations...\n",
            "Run 5, iteration: 1/100, moves: 2595, cost: 65181.0\n",
            "Run 5, iteration: 2/100, moves: 523, cost: 65181.0\n",
            "Best run was number 2\n"
          ]
        },
        {
          "output_type": "execute_result",
          "data": {
            "text/plain": [
              "array([1, 1, 1, ..., 1, 0, 1], dtype=uint16)"
            ]
          },
          "metadata": {},
          "execution_count": 81
        }
      ]
    },
    {
      "cell_type": "code",
      "metadata": {
        "colab": {
          "base_uri": "https://localhost:8080/",
          "height": 258
        },
        "id": "mKraRKKFRJQL",
        "outputId": "f26681f6-0b82-43f2-8dfb-91d9cc4cfb0d"
      },
      "source": [
        "encoded_var_morfo.insert(0, \"Cluster\", clusters, True)\n",
        "encoded_var_morfo.head()"
      ],
      "execution_count": null,
      "outputs": [
        {
          "output_type": "execute_result",
          "data": {
            "text/html": [
              "<div>\n",
              "<style scoped>\n",
              "    .dataframe tbody tr th:only-of-type {\n",
              "        vertical-align: middle;\n",
              "    }\n",
              "\n",
              "    .dataframe tbody tr th {\n",
              "        vertical-align: top;\n",
              "    }\n",
              "\n",
              "    .dataframe thead th {\n",
              "        text-align: right;\n",
              "    }\n",
              "</style>\n",
              "<table border=\"1\" class=\"dataframe\">\n",
              "  <thead>\n",
              "    <tr style=\"text-align: right;\">\n",
              "      <th></th>\n",
              "      <th>Cluster</th>\n",
              "      <th>cap-shape</th>\n",
              "      <th>cap-surface</th>\n",
              "      <th>cap-color</th>\n",
              "      <th>bruises</th>\n",
              "      <th>odor</th>\n",
              "      <th>gill-attachment</th>\n",
              "      <th>gill-spacing</th>\n",
              "      <th>gill-size</th>\n",
              "      <th>gill-color</th>\n",
              "      <th>stalk-shape</th>\n",
              "      <th>stalk-root</th>\n",
              "      <th>stalk-surface-above-ring</th>\n",
              "      <th>stalk-surface-below-ring</th>\n",
              "      <th>stalk-color-above-ring</th>\n",
              "      <th>stalk-color-below-ring</th>\n",
              "      <th>veil-color</th>\n",
              "      <th>ring-number</th>\n",
              "      <th>ring-type</th>\n",
              "      <th>spore-print-color</th>\n",
              "      <th>population</th>\n",
              "      <th>habitat</th>\n",
              "    </tr>\n",
              "  </thead>\n",
              "  <tbody>\n",
              "    <tr>\n",
              "      <th>0</th>\n",
              "      <td>1</td>\n",
              "      <td>5</td>\n",
              "      <td>2</td>\n",
              "      <td>4</td>\n",
              "      <td>1</td>\n",
              "      <td>6</td>\n",
              "      <td>1</td>\n",
              "      <td>0</td>\n",
              "      <td>1</td>\n",
              "      <td>4</td>\n",
              "      <td>0</td>\n",
              "      <td>3</td>\n",
              "      <td>2</td>\n",
              "      <td>2</td>\n",
              "      <td>7</td>\n",
              "      <td>7</td>\n",
              "      <td>2</td>\n",
              "      <td>1</td>\n",
              "      <td>4</td>\n",
              "      <td>2</td>\n",
              "      <td>3</td>\n",
              "      <td>5</td>\n",
              "    </tr>\n",
              "    <tr>\n",
              "      <th>1</th>\n",
              "      <td>1</td>\n",
              "      <td>5</td>\n",
              "      <td>2</td>\n",
              "      <td>9</td>\n",
              "      <td>1</td>\n",
              "      <td>0</td>\n",
              "      <td>1</td>\n",
              "      <td>0</td>\n",
              "      <td>0</td>\n",
              "      <td>4</td>\n",
              "      <td>0</td>\n",
              "      <td>2</td>\n",
              "      <td>2</td>\n",
              "      <td>2</td>\n",
              "      <td>7</td>\n",
              "      <td>7</td>\n",
              "      <td>2</td>\n",
              "      <td>1</td>\n",
              "      <td>4</td>\n",
              "      <td>3</td>\n",
              "      <td>2</td>\n",
              "      <td>1</td>\n",
              "    </tr>\n",
              "    <tr>\n",
              "      <th>2</th>\n",
              "      <td>1</td>\n",
              "      <td>0</td>\n",
              "      <td>2</td>\n",
              "      <td>8</td>\n",
              "      <td>1</td>\n",
              "      <td>3</td>\n",
              "      <td>1</td>\n",
              "      <td>0</td>\n",
              "      <td>0</td>\n",
              "      <td>5</td>\n",
              "      <td>0</td>\n",
              "      <td>2</td>\n",
              "      <td>2</td>\n",
              "      <td>2</td>\n",
              "      <td>7</td>\n",
              "      <td>7</td>\n",
              "      <td>2</td>\n",
              "      <td>1</td>\n",
              "      <td>4</td>\n",
              "      <td>3</td>\n",
              "      <td>2</td>\n",
              "      <td>3</td>\n",
              "    </tr>\n",
              "    <tr>\n",
              "      <th>3</th>\n",
              "      <td>1</td>\n",
              "      <td>5</td>\n",
              "      <td>3</td>\n",
              "      <td>8</td>\n",
              "      <td>1</td>\n",
              "      <td>6</td>\n",
              "      <td>1</td>\n",
              "      <td>0</td>\n",
              "      <td>1</td>\n",
              "      <td>5</td>\n",
              "      <td>0</td>\n",
              "      <td>3</td>\n",
              "      <td>2</td>\n",
              "      <td>2</td>\n",
              "      <td>7</td>\n",
              "      <td>7</td>\n",
              "      <td>2</td>\n",
              "      <td>1</td>\n",
              "      <td>4</td>\n",
              "      <td>2</td>\n",
              "      <td>3</td>\n",
              "      <td>5</td>\n",
              "    </tr>\n",
              "    <tr>\n",
              "      <th>4</th>\n",
              "      <td>1</td>\n",
              "      <td>5</td>\n",
              "      <td>2</td>\n",
              "      <td>3</td>\n",
              "      <td>0</td>\n",
              "      <td>5</td>\n",
              "      <td>1</td>\n",
              "      <td>1</td>\n",
              "      <td>0</td>\n",
              "      <td>4</td>\n",
              "      <td>1</td>\n",
              "      <td>3</td>\n",
              "      <td>2</td>\n",
              "      <td>2</td>\n",
              "      <td>7</td>\n",
              "      <td>7</td>\n",
              "      <td>2</td>\n",
              "      <td>1</td>\n",
              "      <td>0</td>\n",
              "      <td>3</td>\n",
              "      <td>0</td>\n",
              "      <td>1</td>\n",
              "    </tr>\n",
              "  </tbody>\n",
              "</table>\n",
              "</div>"
            ],
            "text/plain": [
              "   Cluster  cap-shape  cap-surface  ...  spore-print-color  population  habitat\n",
              "0        1          5            2  ...                  2           3        5\n",
              "1        1          5            2  ...                  3           2        1\n",
              "2        1          0            2  ...                  3           2        3\n",
              "3        1          5            3  ...                  2           3        5\n",
              "4        1          5            2  ...                  3           0        1\n",
              "\n",
              "[5 rows x 22 columns]"
            ]
          },
          "metadata": {},
          "execution_count": 82
        }
      ]
    },
    {
      "cell_type": "code",
      "metadata": {
        "colab": {
          "base_uri": "https://localhost:8080/",
          "height": 258
        },
        "id": "yQ334k9pHCZU",
        "outputId": "765b6edd-2ce4-482f-e32c-14aafb8f0411"
      },
      "source": [
        "encoded_var_morfo.insert(1, \"class_\", df['class'], True)\n",
        "encoded_var_morfo.head()"
      ],
      "execution_count": null,
      "outputs": [
        {
          "output_type": "execute_result",
          "data": {
            "text/html": [
              "<div>\n",
              "<style scoped>\n",
              "    .dataframe tbody tr th:only-of-type {\n",
              "        vertical-align: middle;\n",
              "    }\n",
              "\n",
              "    .dataframe tbody tr th {\n",
              "        vertical-align: top;\n",
              "    }\n",
              "\n",
              "    .dataframe thead th {\n",
              "        text-align: right;\n",
              "    }\n",
              "</style>\n",
              "<table border=\"1\" class=\"dataframe\">\n",
              "  <thead>\n",
              "    <tr style=\"text-align: right;\">\n",
              "      <th></th>\n",
              "      <th>Cluster</th>\n",
              "      <th>class_</th>\n",
              "      <th>cap-shape</th>\n",
              "      <th>cap-surface</th>\n",
              "      <th>cap-color</th>\n",
              "      <th>bruises</th>\n",
              "      <th>odor</th>\n",
              "      <th>gill-attachment</th>\n",
              "      <th>gill-spacing</th>\n",
              "      <th>gill-size</th>\n",
              "      <th>gill-color</th>\n",
              "      <th>stalk-shape</th>\n",
              "      <th>stalk-root</th>\n",
              "      <th>stalk-surface-above-ring</th>\n",
              "      <th>stalk-surface-below-ring</th>\n",
              "      <th>stalk-color-above-ring</th>\n",
              "      <th>stalk-color-below-ring</th>\n",
              "      <th>veil-color</th>\n",
              "      <th>ring-number</th>\n",
              "      <th>ring-type</th>\n",
              "      <th>spore-print-color</th>\n",
              "      <th>population</th>\n",
              "      <th>habitat</th>\n",
              "    </tr>\n",
              "  </thead>\n",
              "  <tbody>\n",
              "    <tr>\n",
              "      <th>0</th>\n",
              "      <td>1</td>\n",
              "      <td>p</td>\n",
              "      <td>5</td>\n",
              "      <td>2</td>\n",
              "      <td>4</td>\n",
              "      <td>1</td>\n",
              "      <td>6</td>\n",
              "      <td>1</td>\n",
              "      <td>0</td>\n",
              "      <td>1</td>\n",
              "      <td>4</td>\n",
              "      <td>0</td>\n",
              "      <td>3</td>\n",
              "      <td>2</td>\n",
              "      <td>2</td>\n",
              "      <td>7</td>\n",
              "      <td>7</td>\n",
              "      <td>2</td>\n",
              "      <td>1</td>\n",
              "      <td>4</td>\n",
              "      <td>2</td>\n",
              "      <td>3</td>\n",
              "      <td>5</td>\n",
              "    </tr>\n",
              "    <tr>\n",
              "      <th>1</th>\n",
              "      <td>1</td>\n",
              "      <td>e</td>\n",
              "      <td>5</td>\n",
              "      <td>2</td>\n",
              "      <td>9</td>\n",
              "      <td>1</td>\n",
              "      <td>0</td>\n",
              "      <td>1</td>\n",
              "      <td>0</td>\n",
              "      <td>0</td>\n",
              "      <td>4</td>\n",
              "      <td>0</td>\n",
              "      <td>2</td>\n",
              "      <td>2</td>\n",
              "      <td>2</td>\n",
              "      <td>7</td>\n",
              "      <td>7</td>\n",
              "      <td>2</td>\n",
              "      <td>1</td>\n",
              "      <td>4</td>\n",
              "      <td>3</td>\n",
              "      <td>2</td>\n",
              "      <td>1</td>\n",
              "    </tr>\n",
              "    <tr>\n",
              "      <th>2</th>\n",
              "      <td>1</td>\n",
              "      <td>e</td>\n",
              "      <td>0</td>\n",
              "      <td>2</td>\n",
              "      <td>8</td>\n",
              "      <td>1</td>\n",
              "      <td>3</td>\n",
              "      <td>1</td>\n",
              "      <td>0</td>\n",
              "      <td>0</td>\n",
              "      <td>5</td>\n",
              "      <td>0</td>\n",
              "      <td>2</td>\n",
              "      <td>2</td>\n",
              "      <td>2</td>\n",
              "      <td>7</td>\n",
              "      <td>7</td>\n",
              "      <td>2</td>\n",
              "      <td>1</td>\n",
              "      <td>4</td>\n",
              "      <td>3</td>\n",
              "      <td>2</td>\n",
              "      <td>3</td>\n",
              "    </tr>\n",
              "    <tr>\n",
              "      <th>3</th>\n",
              "      <td>1</td>\n",
              "      <td>p</td>\n",
              "      <td>5</td>\n",
              "      <td>3</td>\n",
              "      <td>8</td>\n",
              "      <td>1</td>\n",
              "      <td>6</td>\n",
              "      <td>1</td>\n",
              "      <td>0</td>\n",
              "      <td>1</td>\n",
              "      <td>5</td>\n",
              "      <td>0</td>\n",
              "      <td>3</td>\n",
              "      <td>2</td>\n",
              "      <td>2</td>\n",
              "      <td>7</td>\n",
              "      <td>7</td>\n",
              "      <td>2</td>\n",
              "      <td>1</td>\n",
              "      <td>4</td>\n",
              "      <td>2</td>\n",
              "      <td>3</td>\n",
              "      <td>5</td>\n",
              "    </tr>\n",
              "    <tr>\n",
              "      <th>4</th>\n",
              "      <td>1</td>\n",
              "      <td>e</td>\n",
              "      <td>5</td>\n",
              "      <td>2</td>\n",
              "      <td>3</td>\n",
              "      <td>0</td>\n",
              "      <td>5</td>\n",
              "      <td>1</td>\n",
              "      <td>1</td>\n",
              "      <td>0</td>\n",
              "      <td>4</td>\n",
              "      <td>1</td>\n",
              "      <td>3</td>\n",
              "      <td>2</td>\n",
              "      <td>2</td>\n",
              "      <td>7</td>\n",
              "      <td>7</td>\n",
              "      <td>2</td>\n",
              "      <td>1</td>\n",
              "      <td>0</td>\n",
              "      <td>3</td>\n",
              "      <td>0</td>\n",
              "      <td>1</td>\n",
              "    </tr>\n",
              "  </tbody>\n",
              "</table>\n",
              "</div>"
            ],
            "text/plain": [
              "   Cluster class_  cap-shape  ...  spore-print-color  population  habitat\n",
              "0        1      p          5  ...                  2           3        5\n",
              "1        1      e          5  ...                  3           2        1\n",
              "2        1      e          0  ...                  3           2        3\n",
              "3        1      p          5  ...                  2           3        5\n",
              "4        1      e          5  ...                  3           0        1\n",
              "\n",
              "[5 rows x 23 columns]"
            ]
          },
          "metadata": {},
          "execution_count": 83
        }
      ]
    },
    {
      "cell_type": "code",
      "metadata": {
        "colab": {
          "base_uri": "https://localhost:8080/"
        },
        "id": "kAoAzQq-T_u2",
        "outputId": "6937a16d-794b-4afc-9d68-cd61e2f3e957"
      },
      "source": [
        "encoded_var_morfo.groupby('Cluster')['class_'].value_counts()"
      ],
      "execution_count": null,
      "outputs": [
        {
          "output_type": "execute_result",
          "data": {
            "text/plain": [
              "Cluster  class_\n",
              "0        p         3100\n",
              "         e           68\n",
              "1        e         4140\n",
              "         p          816\n",
              "Name: class_, dtype: int64"
            ]
          },
          "metadata": {},
          "execution_count": 84
        }
      ]
    },
    {
      "cell_type": "code",
      "metadata": {
        "colab": {
          "base_uri": "https://localhost:8080/",
          "height": 296
        },
        "id": "geOpqdXIIgWk",
        "outputId": "6a13d3c9-848b-41ef-d7c8-0e4909eb6325"
      },
      "source": [
        "sns.countplot(data=encoded_var_morfo, x='Cluster', hue='class_', palette='pastel')"
      ],
      "execution_count": null,
      "outputs": [
        {
          "output_type": "execute_result",
          "data": {
            "text/plain": [
              "<matplotlib.axes._subplots.AxesSubplot at 0x7f95a95a4450>"
            ]
          },
          "metadata": {},
          "execution_count": 85
        },
        {
          "output_type": "display_data",
          "data": {
            "image/png": "[encoded data removed]",
            "text/plain": [
              "<Figure size 432x288 with 1 Axes>"
            ]
          },
          "metadata": {
            "needs_background": "light"
          }
        }
      ]
    },
    {
      "cell_type": "markdown",
      "metadata": {
        "id": "WjX9XMadUZhn"
      },
      "source": [
        "Observa-se que a análise de agrupamento foi capaz de separar os dois grupos de teste alvo, apesar de termos alguns cogumelos venenosos que estão no grupo de comestíveis, e vice-versa (iihh! o.O). Segue-se então para a avaliação do modelo de predição."
      ]
    },
    {
      "cell_type": "markdown",
      "metadata": {
        "id": "t6FsqVleVftE"
      },
      "source": [
        "# Rand index\n",
        "\n",
        "The Rand Index computes a similarity measure between two clusterings by considering all pairs of samples and counting pairs that are assigned in the same or different clusters in the predicted and true clusterings.\n",
        "\n",
        "The raw RI score is:\n",
        "\n",
        "RI = (number of agreeing pairs) / (number of pairs)\n",
        "\n",
        "Perfectly matching labelings have a score of 1 even\n",
        "\n",
        "(scikit-learn.org)"
      ]
    },
    {
      "cell_type": "code",
      "metadata": {
        "id": "Og9xvyPYYa_N"
      },
      "source": [
        "encoded_alvo = alvo.apply(encoder.fit_transform)\n"
      ],
      "execution_count": null,
      "outputs": []
    },
    {
      "cell_type": "code",
      "metadata": {
        "colab": {
          "base_uri": "https://localhost:8080/"
        },
        "id": "wItD5LECWvzO",
        "outputId": "34e67077-ece3-4802-d697-03322dcedb7e"
      },
      "source": [
        "labels = pd.DataFrame()\n",
        "labels['alvo'] = encoded_alvo.values.reshape(1, -1).tolist()[0]\n",
        "labels['predicao'] = clusters\n",
        "labels.value_counts([\"alvo\", \"predicao\"])"
      ],
      "execution_count": null,
      "outputs": [
        {
          "output_type": "execute_result",
          "data": {
            "text/plain": [
              "alvo  predicao\n",
              "0     1           4140\n",
              "1     0           3100\n",
              "      1            816\n",
              "0     0             68\n",
              "dtype: int64"
            ]
          },
          "metadata": {},
          "execution_count": 87
        }
      ]
    },
    {
      "cell_type": "code",
      "metadata": {
        "colab": {
          "base_uri": "https://localhost:8080/"
        },
        "id": "7BVi31U-cMT0",
        "outputId": "45389f29-e693-4508-8212-14cdf32df85c"
      },
      "source": [
        "labels['alvo'].value_counts()"
      ],
      "execution_count": null,
      "outputs": [
        {
          "output_type": "execute_result",
          "data": {
            "text/plain": [
              "0    4208\n",
              "1    3916\n",
              "Name: alvo, dtype: int64"
            ]
          },
          "metadata": {},
          "execution_count": 88
        }
      ]
    },
    {
      "cell_type": "code",
      "metadata": {
        "colab": {
          "base_uri": "https://localhost:8080/"
        },
        "id": "cvQ3aCqKcTx_",
        "outputId": "a69822ec-0543-4c3c-9462-5077fab68770"
      },
      "source": [
        "labels['predicao'].value_counts()"
      ],
      "execution_count": null,
      "outputs": [
        {
          "output_type": "execute_result",
          "data": {
            "text/plain": [
              "1    4956\n",
              "0    3168\n",
              "Name: predicao, dtype: int64"
            ]
          },
          "metadata": {},
          "execution_count": 89
        }
      ]
    },
    {
      "cell_type": "code",
      "metadata": {
        "colab": {
          "base_uri": "https://localhost:8080/"
        },
        "id": "JhHWzOSY0yf3",
        "outputId": "ff6ba7ad-ac21-454c-cb3e-4a832c5a0690"
      },
      "source": [
        "from sklearn.metrics.cluster import rand_score\n",
        "rIndex = rand_score(labels['alvo'], labels['predicao'])\n",
        "print(f'O Rand Index é: {rIndex}')"
      ],
      "execution_count": null,
      "outputs": [
        {
          "output_type": "stream",
          "name": "stdout",
          "text": [
            "O Rand Index é: 0.8060300477402671\n"
          ]
        }
      ]
    },
    {
      "cell_type": "markdown",
      "metadata": {
        "id": "7lbhEH13un3m"
      },
      "source": [
        ""
      ]
    },
    {
      "cell_type": "markdown",
      "metadata": {
        "id": "2JCWoNkRjX52"
      },
      "source": [
        "# Confusion Matrix"
      ]
    },
    {
      "cell_type": "markdown",
      "metadata": {
        "id": "l0CdooBHjcKO"
      },
      "source": [
        "Compute confusion matrix to evaluate the accuracy of a classification.\n",
        "\n",
        "By definition a confusion matrix  is such that  is equal to the number of observations known to be in group  and predicted to be in group .\n",
        "(scikit-learn.org)\n",
        "\n",
        "![confusion-matrix-81.jpg](data:image/jpeg;base64,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)"
      ]
    },
    {
      "cell_type": "code",
      "metadata": {
        "colab": {
          "base_uri": "https://localhost:8080/"
        },
        "id": "hMr2ltYIjcoW",
        "outputId": "1c2a7136-46a6-4f8f-e195-6683f20b399c"
      },
      "source": [
        "from sklearn.metrics import confusion_matrix\n",
        "confusion_matrix(labels['alvo'], labels['predicao'])\n"
      ],
      "execution_count": null,
      "outputs": [
        {
          "output_type": "execute_result",
          "data": {
            "text/plain": [
              "array([[  68, 4140],\n",
              "       [3100,  816]])"
            ]
          },
          "metadata": {},
          "execution_count": 91
        }
      ]
    },
    {
      "cell_type": "code",
      "metadata": {
        "colab": {
          "base_uri": "https://localhost:8080/"
        },
        "id": "y4Ck7QPKvVWQ",
        "outputId": "efd8d1b2-a247-4778-af25-b96b76e17544"
      },
      "source": [
        "print (pd.crosstab(labels['alvo'], labels['predicao'], rownames = ['Alvo'], colnames= ['Predição'], margins= True))"
      ],
      "execution_count": null,
      "outputs": [
        {
          "output_type": "stream",
          "name": "stdout",
          "text": [
            "Predição     0     1   All\n",
            "Alvo                      \n",
            "0           68  4140  4208\n",
            "1         3100   816  3916\n",
            "All       3168  4956  8124\n"
          ]
        }
      ]
    },
    {
      "cell_type": "markdown",
      "metadata": {
        "id": "Xy8_0Dmu70jW"
      },
      "source": [
        "Pode-se inferir que apesar do modelo apresentar falsos-negativos (cogumelos venenosos classificados como comestíveis), e falsos-positivos (cogumelos comestíveis que foram classificados como venenosos), o modelo de agrupamento foi eficiente em separar dois grupos a partir das características morfológicas apresentadas."
      ]
    }
  ]
}